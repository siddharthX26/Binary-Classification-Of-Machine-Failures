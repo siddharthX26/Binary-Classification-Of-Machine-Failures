{
 "cells": [
  {
   "cell_type": "markdown",
   "id": "274550b4",
   "metadata": {},
   "source": [
    "# Project Introduction\n",
    "\n",
    "<font color='green'>Welcome to my project on Binary Classification of Machine Failures as my first attempt to a kaggle competition. In this notebook, I will explore and analyze the dataset to solve the binary calssification problem whether a machine will fail or not</font>\n",
    "\n",
    "## Dataset Description\n",
    "\n",
    "<font color='green'>The project is based on a dataset that is synthetically generated from real-world data.<br>\n",
    "It contains<br> \n",
    "train.csv - the training dataset; Machine failure is the (binary) target (which, in order to align with the ordering of the original dataset, is not in the last column position)\n",
    "<br>test.csv - the test dataset; your objective is to predict the probability of Machine failure\n",
    "</font>\n",
    "## Methodology\n",
    "\n",
    "<font color='green'>To achieve the project goals, I will follow the following steps:<br>\n",
    "\n",
    "<font color='green'>1. Exploratory data analysis<br>\n",
    "2. Data preprocessing and cleaning <br>\n",
    "3. Building and evaluating machine learning models<br>\n",
    "4. Results and conclusion\n",
    "</font></font>\n",
    "    \n",
    "## Tools and Libraries Used\n",
    "\n",
    "<font color='green'>For this project, I will be using Python and Sklearn to build the model. The primary tools and libraries used in this notebook include:\n",
    "\n",
    "<font color='green'>-Python<br>\n",
    "-Sklearn<br>\n",
    "-Pandas<br>\n",
    "-Seaborn<br>\n",
    "<font color='green'>Now let's dive into the project and explore the data!<br>\n",
    "<font color='blue'>Going forward in the note book all description or pre-requisite for a cell will be in Blue Color.<br>\n",
    "<font color='red'>All inferences derived will be in Red Color.\n",
    "\n"
   ]
  },
  {
   "cell_type": "markdown",
   "id": "ac64587e",
   "metadata": {},
   "source": [
    "## Exploratory Data Analysis\n",
    "<font color='blue'>So Let's dive straight into importing the basic required libraries, reading our data and having a look at it"
   ]
  },
  {
   "cell_type": "code",
   "execution_count": 1,
   "id": "8a870bc9",
   "metadata": {},
   "outputs": [],
   "source": [
    "import pandas as pd\n",
    "import numpy as np\n",
    "import seaborn as sns\n",
    "import matplotlib.pyplot as plt\n",
    "import warnings"
   ]
  },
  {
   "cell_type": "code",
   "execution_count": 2,
   "id": "223be6fb",
   "metadata": {},
   "outputs": [],
   "source": [
    "warnings.filterwarnings('ignore')"
   ]
  },
  {
   "cell_type": "code",
   "execution_count": 3,
   "id": "ff9af0d1",
   "metadata": {
    "scrolled": true
   },
   "outputs": [
    {
     "data": {
      "text/html": [
       "<div>\n",
       "<style scoped>\n",
       "    .dataframe tbody tr th:only-of-type {\n",
       "        vertical-align: middle;\n",
       "    }\n",
       "\n",
       "    .dataframe tbody tr th {\n",
       "        vertical-align: top;\n",
       "    }\n",
       "\n",
       "    .dataframe thead th {\n",
       "        text-align: right;\n",
       "    }\n",
       "</style>\n",
       "<table border=\"1\" class=\"dataframe\">\n",
       "  <thead>\n",
       "    <tr style=\"text-align: right;\">\n",
       "      <th></th>\n",
       "      <th>id</th>\n",
       "      <th>Product ID</th>\n",
       "      <th>Type</th>\n",
       "      <th>Air temperature [K]</th>\n",
       "      <th>Process temperature [K]</th>\n",
       "      <th>Rotational speed [rpm]</th>\n",
       "      <th>Torque [Nm]</th>\n",
       "      <th>Tool wear [min]</th>\n",
       "      <th>Machine failure</th>\n",
       "      <th>TWF</th>\n",
       "      <th>HDF</th>\n",
       "      <th>PWF</th>\n",
       "      <th>OSF</th>\n",
       "      <th>RNF</th>\n",
       "    </tr>\n",
       "  </thead>\n",
       "  <tbody>\n",
       "    <tr>\n",
       "      <th>0</th>\n",
       "      <td>0</td>\n",
       "      <td>L50096</td>\n",
       "      <td>L</td>\n",
       "      <td>300.6</td>\n",
       "      <td>309.6</td>\n",
       "      <td>1596</td>\n",
       "      <td>36.1</td>\n",
       "      <td>140</td>\n",
       "      <td>0</td>\n",
       "      <td>0</td>\n",
       "      <td>0</td>\n",
       "      <td>0</td>\n",
       "      <td>0</td>\n",
       "      <td>0</td>\n",
       "    </tr>\n",
       "    <tr>\n",
       "      <th>1</th>\n",
       "      <td>1</td>\n",
       "      <td>M20343</td>\n",
       "      <td>M</td>\n",
       "      <td>302.6</td>\n",
       "      <td>312.1</td>\n",
       "      <td>1759</td>\n",
       "      <td>29.1</td>\n",
       "      <td>200</td>\n",
       "      <td>0</td>\n",
       "      <td>0</td>\n",
       "      <td>0</td>\n",
       "      <td>0</td>\n",
       "      <td>0</td>\n",
       "      <td>0</td>\n",
       "    </tr>\n",
       "    <tr>\n",
       "      <th>2</th>\n",
       "      <td>2</td>\n",
       "      <td>L49454</td>\n",
       "      <td>L</td>\n",
       "      <td>299.3</td>\n",
       "      <td>308.5</td>\n",
       "      <td>1805</td>\n",
       "      <td>26.5</td>\n",
       "      <td>25</td>\n",
       "      <td>0</td>\n",
       "      <td>0</td>\n",
       "      <td>0</td>\n",
       "      <td>0</td>\n",
       "      <td>0</td>\n",
       "      <td>0</td>\n",
       "    </tr>\n",
       "    <tr>\n",
       "      <th>3</th>\n",
       "      <td>3</td>\n",
       "      <td>L53355</td>\n",
       "      <td>L</td>\n",
       "      <td>301.0</td>\n",
       "      <td>310.9</td>\n",
       "      <td>1524</td>\n",
       "      <td>44.3</td>\n",
       "      <td>197</td>\n",
       "      <td>0</td>\n",
       "      <td>0</td>\n",
       "      <td>0</td>\n",
       "      <td>0</td>\n",
       "      <td>0</td>\n",
       "      <td>0</td>\n",
       "    </tr>\n",
       "    <tr>\n",
       "      <th>4</th>\n",
       "      <td>4</td>\n",
       "      <td>M24050</td>\n",
       "      <td>M</td>\n",
       "      <td>298.0</td>\n",
       "      <td>309.0</td>\n",
       "      <td>1641</td>\n",
       "      <td>35.4</td>\n",
       "      <td>34</td>\n",
       "      <td>0</td>\n",
       "      <td>0</td>\n",
       "      <td>0</td>\n",
       "      <td>0</td>\n",
       "      <td>0</td>\n",
       "      <td>0</td>\n",
       "    </tr>\n",
       "  </tbody>\n",
       "</table>\n",
       "</div>"
      ],
      "text/plain": [
       "   id Product ID Type  Air temperature [K]  Process temperature [K]  \\\n",
       "0   0     L50096    L                300.6                    309.6   \n",
       "1   1     M20343    M                302.6                    312.1   \n",
       "2   2     L49454    L                299.3                    308.5   \n",
       "3   3     L53355    L                301.0                    310.9   \n",
       "4   4     M24050    M                298.0                    309.0   \n",
       "\n",
       "   Rotational speed [rpm]  Torque [Nm]  Tool wear [min]  Machine failure  TWF  \\\n",
       "0                    1596         36.1              140                0    0   \n",
       "1                    1759         29.1              200                0    0   \n",
       "2                    1805         26.5               25                0    0   \n",
       "3                    1524         44.3              197                0    0   \n",
       "4                    1641         35.4               34                0    0   \n",
       "\n",
       "   HDF  PWF  OSF  RNF  \n",
       "0    0    0    0    0  \n",
       "1    0    0    0    0  \n",
       "2    0    0    0    0  \n",
       "3    0    0    0    0  \n",
       "4    0    0    0    0  "
      ]
     },
     "execution_count": 3,
     "metadata": {},
     "output_type": "execute_result"
    }
   ],
   "source": [
    "df = pd.read_csv('train.csv')\n",
    "df.head()"
   ]
  },
  {
   "cell_type": "code",
   "execution_count": 4,
   "id": "79572c67",
   "metadata": {},
   "outputs": [
    {
     "data": {
      "text/html": [
       "<div>\n",
       "<style scoped>\n",
       "    .dataframe tbody tr th:only-of-type {\n",
       "        vertical-align: middle;\n",
       "    }\n",
       "\n",
       "    .dataframe tbody tr th {\n",
       "        vertical-align: top;\n",
       "    }\n",
       "\n",
       "    .dataframe thead th {\n",
       "        text-align: right;\n",
       "    }\n",
       "</style>\n",
       "<table border=\"1\" class=\"dataframe\">\n",
       "  <thead>\n",
       "    <tr style=\"text-align: right;\">\n",
       "      <th></th>\n",
       "      <th>id</th>\n",
       "      <th>Product ID</th>\n",
       "      <th>Type</th>\n",
       "      <th>Air temperature [K]</th>\n",
       "      <th>Process temperature [K]</th>\n",
       "      <th>Rotational speed [rpm]</th>\n",
       "      <th>Torque [Nm]</th>\n",
       "      <th>Tool wear [min]</th>\n",
       "      <th>TWF</th>\n",
       "      <th>HDF</th>\n",
       "      <th>PWF</th>\n",
       "      <th>OSF</th>\n",
       "      <th>RNF</th>\n",
       "    </tr>\n",
       "  </thead>\n",
       "  <tbody>\n",
       "    <tr>\n",
       "      <th>0</th>\n",
       "      <td>136429</td>\n",
       "      <td>L50896</td>\n",
       "      <td>L</td>\n",
       "      <td>302.3</td>\n",
       "      <td>311.5</td>\n",
       "      <td>1499</td>\n",
       "      <td>38.0</td>\n",
       "      <td>60</td>\n",
       "      <td>0</td>\n",
       "      <td>0</td>\n",
       "      <td>0</td>\n",
       "      <td>0</td>\n",
       "      <td>0</td>\n",
       "    </tr>\n",
       "    <tr>\n",
       "      <th>1</th>\n",
       "      <td>136430</td>\n",
       "      <td>L53866</td>\n",
       "      <td>L</td>\n",
       "      <td>301.7</td>\n",
       "      <td>311.0</td>\n",
       "      <td>1713</td>\n",
       "      <td>28.8</td>\n",
       "      <td>17</td>\n",
       "      <td>0</td>\n",
       "      <td>0</td>\n",
       "      <td>0</td>\n",
       "      <td>0</td>\n",
       "      <td>0</td>\n",
       "    </tr>\n",
       "    <tr>\n",
       "      <th>2</th>\n",
       "      <td>136431</td>\n",
       "      <td>L50498</td>\n",
       "      <td>L</td>\n",
       "      <td>301.3</td>\n",
       "      <td>310.4</td>\n",
       "      <td>1525</td>\n",
       "      <td>37.7</td>\n",
       "      <td>96</td>\n",
       "      <td>0</td>\n",
       "      <td>0</td>\n",
       "      <td>0</td>\n",
       "      <td>0</td>\n",
       "      <td>0</td>\n",
       "    </tr>\n",
       "    <tr>\n",
       "      <th>3</th>\n",
       "      <td>136432</td>\n",
       "      <td>M21232</td>\n",
       "      <td>M</td>\n",
       "      <td>300.1</td>\n",
       "      <td>309.6</td>\n",
       "      <td>1479</td>\n",
       "      <td>47.6</td>\n",
       "      <td>5</td>\n",
       "      <td>0</td>\n",
       "      <td>0</td>\n",
       "      <td>0</td>\n",
       "      <td>0</td>\n",
       "      <td>0</td>\n",
       "    </tr>\n",
       "    <tr>\n",
       "      <th>4</th>\n",
       "      <td>136433</td>\n",
       "      <td>M19751</td>\n",
       "      <td>M</td>\n",
       "      <td>303.4</td>\n",
       "      <td>312.3</td>\n",
       "      <td>1515</td>\n",
       "      <td>41.3</td>\n",
       "      <td>114</td>\n",
       "      <td>0</td>\n",
       "      <td>0</td>\n",
       "      <td>0</td>\n",
       "      <td>0</td>\n",
       "      <td>0</td>\n",
       "    </tr>\n",
       "  </tbody>\n",
       "</table>\n",
       "</div>"
      ],
      "text/plain": [
       "       id Product ID Type  Air temperature [K]  Process temperature [K]  \\\n",
       "0  136429     L50896    L                302.3                    311.5   \n",
       "1  136430     L53866    L                301.7                    311.0   \n",
       "2  136431     L50498    L                301.3                    310.4   \n",
       "3  136432     M21232    M                300.1                    309.6   \n",
       "4  136433     M19751    M                303.4                    312.3   \n",
       "\n",
       "   Rotational speed [rpm]  Torque [Nm]  Tool wear [min]  TWF  HDF  PWF  OSF  \\\n",
       "0                    1499         38.0               60    0    0    0    0   \n",
       "1                    1713         28.8               17    0    0    0    0   \n",
       "2                    1525         37.7               96    0    0    0    0   \n",
       "3                    1479         47.6                5    0    0    0    0   \n",
       "4                    1515         41.3              114    0    0    0    0   \n",
       "\n",
       "   RNF  \n",
       "0    0  \n",
       "1    0  \n",
       "2    0  \n",
       "3    0  \n",
       "4    0  "
      ]
     },
     "execution_count": 4,
     "metadata": {},
     "output_type": "execute_result"
    }
   ],
   "source": [
    "df_test = pd.read_csv('test.csv')\n",
    "df_test.head()"
   ]
  },
  {
   "cell_type": "code",
   "execution_count": 5,
   "id": "895567ae",
   "metadata": {},
   "outputs": [
    {
     "data": {
      "text/plain": [
       "(136429, 14)"
      ]
     },
     "execution_count": 5,
     "metadata": {},
     "output_type": "execute_result"
    }
   ],
   "source": [
    "df.shape"
   ]
  },
  {
   "cell_type": "code",
   "execution_count": 6,
   "id": "df215821",
   "metadata": {},
   "outputs": [
    {
     "data": {
      "text/plain": [
       "(90954, 13)"
      ]
     },
     "execution_count": 6,
     "metadata": {},
     "output_type": "execute_result"
    }
   ],
   "source": [
    "df_test.shape"
   ]
  },
  {
   "cell_type": "markdown",
   "id": "bb74b662",
   "metadata": {},
   "source": [
    "<font color='red'>Off the bat we can see that we have around 130k rows and 14 columns to work with out of which one is our target column, one is an id column and others are our independant features<br>\n",
    "<font color='blue'>Lets futher use some summary functions to understand our data and its uniqueness"
   ]
  },
  {
   "cell_type": "code",
   "execution_count": 7,
   "id": "5de7ddee",
   "metadata": {},
   "outputs": [
    {
     "name": "stdout",
     "output_type": "stream",
     "text": [
      "<class 'pandas.core.frame.DataFrame'>\n",
      "RangeIndex: 136429 entries, 0 to 136428\n",
      "Data columns (total 14 columns):\n",
      " #   Column                   Non-Null Count   Dtype  \n",
      "---  ------                   --------------   -----  \n",
      " 0   id                       136429 non-null  int64  \n",
      " 1   Product ID               136429 non-null  object \n",
      " 2   Type                     136429 non-null  object \n",
      " 3   Air temperature [K]      136429 non-null  float64\n",
      " 4   Process temperature [K]  136429 non-null  float64\n",
      " 5   Rotational speed [rpm]   136429 non-null  int64  \n",
      " 6   Torque [Nm]              136429 non-null  float64\n",
      " 7   Tool wear [min]          136429 non-null  int64  \n",
      " 8   Machine failure          136429 non-null  int64  \n",
      " 9   TWF                      136429 non-null  int64  \n",
      " 10  HDF                      136429 non-null  int64  \n",
      " 11  PWF                      136429 non-null  int64  \n",
      " 12  OSF                      136429 non-null  int64  \n",
      " 13  RNF                      136429 non-null  int64  \n",
      "dtypes: float64(3), int64(9), object(2)\n",
      "memory usage: 14.6+ MB\n"
     ]
    }
   ],
   "source": [
    "df.info()"
   ]
  },
  {
   "cell_type": "code",
   "execution_count": 8,
   "id": "ea65fe6c",
   "metadata": {},
   "outputs": [
    {
     "data": {
      "text/html": [
       "<div>\n",
       "<style scoped>\n",
       "    .dataframe tbody tr th:only-of-type {\n",
       "        vertical-align: middle;\n",
       "    }\n",
       "\n",
       "    .dataframe tbody tr th {\n",
       "        vertical-align: top;\n",
       "    }\n",
       "\n",
       "    .dataframe thead th {\n",
       "        text-align: right;\n",
       "    }\n",
       "</style>\n",
       "<table border=\"1\" class=\"dataframe\">\n",
       "  <thead>\n",
       "    <tr style=\"text-align: right;\">\n",
       "      <th></th>\n",
       "      <th>id</th>\n",
       "      <th>Air temperature [K]</th>\n",
       "      <th>Process temperature [K]</th>\n",
       "      <th>Rotational speed [rpm]</th>\n",
       "      <th>Torque [Nm]</th>\n",
       "      <th>Tool wear [min]</th>\n",
       "      <th>Machine failure</th>\n",
       "      <th>TWF</th>\n",
       "      <th>HDF</th>\n",
       "      <th>PWF</th>\n",
       "      <th>OSF</th>\n",
       "      <th>RNF</th>\n",
       "    </tr>\n",
       "  </thead>\n",
       "  <tbody>\n",
       "    <tr>\n",
       "      <th>count</th>\n",
       "      <td>136429.000000</td>\n",
       "      <td>136429.000000</td>\n",
       "      <td>136429.000000</td>\n",
       "      <td>136429.000000</td>\n",
       "      <td>136429.000000</td>\n",
       "      <td>136429.000000</td>\n",
       "      <td>136429.000000</td>\n",
       "      <td>136429.000000</td>\n",
       "      <td>136429.000000</td>\n",
       "      <td>136429.000000</td>\n",
       "      <td>136429.000000</td>\n",
       "      <td>136429.000000</td>\n",
       "    </tr>\n",
       "    <tr>\n",
       "      <th>mean</th>\n",
       "      <td>68214.000000</td>\n",
       "      <td>299.862776</td>\n",
       "      <td>309.941070</td>\n",
       "      <td>1520.331110</td>\n",
       "      <td>40.348643</td>\n",
       "      <td>104.408901</td>\n",
       "      <td>0.015744</td>\n",
       "      <td>0.001554</td>\n",
       "      <td>0.005160</td>\n",
       "      <td>0.002397</td>\n",
       "      <td>0.003958</td>\n",
       "      <td>0.002258</td>\n",
       "    </tr>\n",
       "    <tr>\n",
       "      <th>std</th>\n",
       "      <td>39383.804275</td>\n",
       "      <td>1.862247</td>\n",
       "      <td>1.385173</td>\n",
       "      <td>138.736632</td>\n",
       "      <td>8.502229</td>\n",
       "      <td>63.965040</td>\n",
       "      <td>0.124486</td>\n",
       "      <td>0.039389</td>\n",
       "      <td>0.071649</td>\n",
       "      <td>0.048899</td>\n",
       "      <td>0.062789</td>\n",
       "      <td>0.047461</td>\n",
       "    </tr>\n",
       "    <tr>\n",
       "      <th>min</th>\n",
       "      <td>0.000000</td>\n",
       "      <td>295.300000</td>\n",
       "      <td>305.800000</td>\n",
       "      <td>1181.000000</td>\n",
       "      <td>3.800000</td>\n",
       "      <td>0.000000</td>\n",
       "      <td>0.000000</td>\n",
       "      <td>0.000000</td>\n",
       "      <td>0.000000</td>\n",
       "      <td>0.000000</td>\n",
       "      <td>0.000000</td>\n",
       "      <td>0.000000</td>\n",
       "    </tr>\n",
       "    <tr>\n",
       "      <th>25%</th>\n",
       "      <td>34107.000000</td>\n",
       "      <td>298.300000</td>\n",
       "      <td>308.700000</td>\n",
       "      <td>1432.000000</td>\n",
       "      <td>34.600000</td>\n",
       "      <td>48.000000</td>\n",
       "      <td>0.000000</td>\n",
       "      <td>0.000000</td>\n",
       "      <td>0.000000</td>\n",
       "      <td>0.000000</td>\n",
       "      <td>0.000000</td>\n",
       "      <td>0.000000</td>\n",
       "    </tr>\n",
       "    <tr>\n",
       "      <th>50%</th>\n",
       "      <td>68214.000000</td>\n",
       "      <td>300.000000</td>\n",
       "      <td>310.000000</td>\n",
       "      <td>1493.000000</td>\n",
       "      <td>40.400000</td>\n",
       "      <td>106.000000</td>\n",
       "      <td>0.000000</td>\n",
       "      <td>0.000000</td>\n",
       "      <td>0.000000</td>\n",
       "      <td>0.000000</td>\n",
       "      <td>0.000000</td>\n",
       "      <td>0.000000</td>\n",
       "    </tr>\n",
       "    <tr>\n",
       "      <th>75%</th>\n",
       "      <td>102321.000000</td>\n",
       "      <td>301.200000</td>\n",
       "      <td>310.900000</td>\n",
       "      <td>1580.000000</td>\n",
       "      <td>46.100000</td>\n",
       "      <td>159.000000</td>\n",
       "      <td>0.000000</td>\n",
       "      <td>0.000000</td>\n",
       "      <td>0.000000</td>\n",
       "      <td>0.000000</td>\n",
       "      <td>0.000000</td>\n",
       "      <td>0.000000</td>\n",
       "    </tr>\n",
       "    <tr>\n",
       "      <th>max</th>\n",
       "      <td>136428.000000</td>\n",
       "      <td>304.400000</td>\n",
       "      <td>313.800000</td>\n",
       "      <td>2886.000000</td>\n",
       "      <td>76.600000</td>\n",
       "      <td>253.000000</td>\n",
       "      <td>1.000000</td>\n",
       "      <td>1.000000</td>\n",
       "      <td>1.000000</td>\n",
       "      <td>1.000000</td>\n",
       "      <td>1.000000</td>\n",
       "      <td>1.000000</td>\n",
       "    </tr>\n",
       "  </tbody>\n",
       "</table>\n",
       "</div>"
      ],
      "text/plain": [
       "                  id  Air temperature [K]  Process temperature [K]  \\\n",
       "count  136429.000000        136429.000000            136429.000000   \n",
       "mean    68214.000000           299.862776               309.941070   \n",
       "std     39383.804275             1.862247                 1.385173   \n",
       "min         0.000000           295.300000               305.800000   \n",
       "25%     34107.000000           298.300000               308.700000   \n",
       "50%     68214.000000           300.000000               310.000000   \n",
       "75%    102321.000000           301.200000               310.900000   \n",
       "max    136428.000000           304.400000               313.800000   \n",
       "\n",
       "       Rotational speed [rpm]    Torque [Nm]  Tool wear [min]  \\\n",
       "count           136429.000000  136429.000000    136429.000000   \n",
       "mean              1520.331110      40.348643       104.408901   \n",
       "std                138.736632       8.502229        63.965040   \n",
       "min               1181.000000       3.800000         0.000000   \n",
       "25%               1432.000000      34.600000        48.000000   \n",
       "50%               1493.000000      40.400000       106.000000   \n",
       "75%               1580.000000      46.100000       159.000000   \n",
       "max               2886.000000      76.600000       253.000000   \n",
       "\n",
       "       Machine failure            TWF            HDF            PWF  \\\n",
       "count    136429.000000  136429.000000  136429.000000  136429.000000   \n",
       "mean          0.015744       0.001554       0.005160       0.002397   \n",
       "std           0.124486       0.039389       0.071649       0.048899   \n",
       "min           0.000000       0.000000       0.000000       0.000000   \n",
       "25%           0.000000       0.000000       0.000000       0.000000   \n",
       "50%           0.000000       0.000000       0.000000       0.000000   \n",
       "75%           0.000000       0.000000       0.000000       0.000000   \n",
       "max           1.000000       1.000000       1.000000       1.000000   \n",
       "\n",
       "                 OSF            RNF  \n",
       "count  136429.000000  136429.000000  \n",
       "mean        0.003958       0.002258  \n",
       "std         0.062789       0.047461  \n",
       "min         0.000000       0.000000  \n",
       "25%         0.000000       0.000000  \n",
       "50%         0.000000       0.000000  \n",
       "75%         0.000000       0.000000  \n",
       "max         1.000000       1.000000  "
      ]
     },
     "execution_count": 8,
     "metadata": {},
     "output_type": "execute_result"
    }
   ],
   "source": [
    "df.describe()"
   ]
  },
  {
   "cell_type": "code",
   "execution_count": 9,
   "id": "99437d88",
   "metadata": {},
   "outputs": [
    {
     "data": {
      "text/html": [
       "<div>\n",
       "<style scoped>\n",
       "    .dataframe tbody tr th:only-of-type {\n",
       "        vertical-align: middle;\n",
       "    }\n",
       "\n",
       "    .dataframe tbody tr th {\n",
       "        vertical-align: top;\n",
       "    }\n",
       "\n",
       "    .dataframe thead th {\n",
       "        text-align: right;\n",
       "    }\n",
       "</style>\n",
       "<table border=\"1\" class=\"dataframe\">\n",
       "  <thead>\n",
       "    <tr style=\"text-align: right;\">\n",
       "      <th></th>\n",
       "      <th>Product ID</th>\n",
       "      <th>Type</th>\n",
       "    </tr>\n",
       "  </thead>\n",
       "  <tbody>\n",
       "    <tr>\n",
       "      <th>count</th>\n",
       "      <td>136429</td>\n",
       "      <td>136429</td>\n",
       "    </tr>\n",
       "    <tr>\n",
       "      <th>unique</th>\n",
       "      <td>9976</td>\n",
       "      <td>3</td>\n",
       "    </tr>\n",
       "    <tr>\n",
       "      <th>top</th>\n",
       "      <td>L53257</td>\n",
       "      <td>L</td>\n",
       "    </tr>\n",
       "    <tr>\n",
       "      <th>freq</th>\n",
       "      <td>139</td>\n",
       "      <td>95354</td>\n",
       "    </tr>\n",
       "  </tbody>\n",
       "</table>\n",
       "</div>"
      ],
      "text/plain": [
       "       Product ID    Type\n",
       "count      136429  136429\n",
       "unique       9976       3\n",
       "top        L53257       L\n",
       "freq          139   95354"
      ]
     },
     "execution_count": 9,
     "metadata": {},
     "output_type": "execute_result"
    }
   ],
   "source": [
    "df.describe(include=['O'])"
   ]
  },
  {
   "cell_type": "code",
   "execution_count": 10,
   "id": "49856d84",
   "metadata": {},
   "outputs": [
    {
     "name": "stdout",
     "output_type": "stream",
     "text": [
      "<class 'pandas.core.frame.DataFrame'>\n",
      "RangeIndex: 90954 entries, 0 to 90953\n",
      "Data columns (total 13 columns):\n",
      " #   Column                   Non-Null Count  Dtype  \n",
      "---  ------                   --------------  -----  \n",
      " 0   id                       90954 non-null  int64  \n",
      " 1   Product ID               90954 non-null  object \n",
      " 2   Type                     90954 non-null  object \n",
      " 3   Air temperature [K]      90954 non-null  float64\n",
      " 4   Process temperature [K]  90954 non-null  float64\n",
      " 5   Rotational speed [rpm]   90954 non-null  int64  \n",
      " 6   Torque [Nm]              90954 non-null  float64\n",
      " 7   Tool wear [min]          90954 non-null  int64  \n",
      " 8   TWF                      90954 non-null  int64  \n",
      " 9   HDF                      90954 non-null  int64  \n",
      " 10  PWF                      90954 non-null  int64  \n",
      " 11  OSF                      90954 non-null  int64  \n",
      " 12  RNF                      90954 non-null  int64  \n",
      "dtypes: float64(3), int64(8), object(2)\n",
      "memory usage: 9.0+ MB\n"
     ]
    }
   ],
   "source": [
    "df_test.info()"
   ]
  },
  {
   "cell_type": "code",
   "execution_count": 11,
   "id": "c76ef8e1",
   "metadata": {
    "scrolled": true
   },
   "outputs": [
    {
     "data": {
      "text/html": [
       "<div>\n",
       "<style scoped>\n",
       "    .dataframe tbody tr th:only-of-type {\n",
       "        vertical-align: middle;\n",
       "    }\n",
       "\n",
       "    .dataframe tbody tr th {\n",
       "        vertical-align: top;\n",
       "    }\n",
       "\n",
       "    .dataframe thead th {\n",
       "        text-align: right;\n",
       "    }\n",
       "</style>\n",
       "<table border=\"1\" class=\"dataframe\">\n",
       "  <thead>\n",
       "    <tr style=\"text-align: right;\">\n",
       "      <th></th>\n",
       "      <th>id</th>\n",
       "      <th>Air temperature [K]</th>\n",
       "      <th>Process temperature [K]</th>\n",
       "      <th>Rotational speed [rpm]</th>\n",
       "      <th>Torque [Nm]</th>\n",
       "      <th>Tool wear [min]</th>\n",
       "      <th>TWF</th>\n",
       "      <th>HDF</th>\n",
       "      <th>PWF</th>\n",
       "      <th>OSF</th>\n",
       "      <th>RNF</th>\n",
       "    </tr>\n",
       "  </thead>\n",
       "  <tbody>\n",
       "    <tr>\n",
       "      <th>count</th>\n",
       "      <td>90954.000000</td>\n",
       "      <td>90954.000000</td>\n",
       "      <td>90954.000000</td>\n",
       "      <td>90954.000000</td>\n",
       "      <td>90954.000000</td>\n",
       "      <td>90954.000000</td>\n",
       "      <td>90954.000000</td>\n",
       "      <td>90954.000000</td>\n",
       "      <td>90954.000000</td>\n",
       "      <td>90954.00000</td>\n",
       "      <td>90954.000000</td>\n",
       "    </tr>\n",
       "    <tr>\n",
       "      <th>mean</th>\n",
       "      <td>181905.500000</td>\n",
       "      <td>299.859493</td>\n",
       "      <td>309.939375</td>\n",
       "      <td>1520.528179</td>\n",
       "      <td>40.335191</td>\n",
       "      <td>104.293962</td>\n",
       "      <td>0.001473</td>\n",
       "      <td>0.005343</td>\n",
       "      <td>0.002353</td>\n",
       "      <td>0.00387</td>\n",
       "      <td>0.002309</td>\n",
       "    </tr>\n",
       "    <tr>\n",
       "      <th>std</th>\n",
       "      <td>26256.302529</td>\n",
       "      <td>1.857562</td>\n",
       "      <td>1.385296</td>\n",
       "      <td>139.970419</td>\n",
       "      <td>8.504683</td>\n",
       "      <td>63.871092</td>\n",
       "      <td>0.038355</td>\n",
       "      <td>0.072903</td>\n",
       "      <td>0.048449</td>\n",
       "      <td>0.06209</td>\n",
       "      <td>0.047995</td>\n",
       "    </tr>\n",
       "    <tr>\n",
       "      <th>min</th>\n",
       "      <td>136429.000000</td>\n",
       "      <td>295.300000</td>\n",
       "      <td>305.700000</td>\n",
       "      <td>1168.000000</td>\n",
       "      <td>3.800000</td>\n",
       "      <td>0.000000</td>\n",
       "      <td>0.000000</td>\n",
       "      <td>0.000000</td>\n",
       "      <td>0.000000</td>\n",
       "      <td>0.00000</td>\n",
       "      <td>0.000000</td>\n",
       "    </tr>\n",
       "    <tr>\n",
       "      <th>25%</th>\n",
       "      <td>159167.250000</td>\n",
       "      <td>298.300000</td>\n",
       "      <td>308.700000</td>\n",
       "      <td>1432.000000</td>\n",
       "      <td>34.600000</td>\n",
       "      <td>48.000000</td>\n",
       "      <td>0.000000</td>\n",
       "      <td>0.000000</td>\n",
       "      <td>0.000000</td>\n",
       "      <td>0.00000</td>\n",
       "      <td>0.000000</td>\n",
       "    </tr>\n",
       "    <tr>\n",
       "      <th>50%</th>\n",
       "      <td>181905.500000</td>\n",
       "      <td>300.000000</td>\n",
       "      <td>310.000000</td>\n",
       "      <td>1493.000000</td>\n",
       "      <td>40.500000</td>\n",
       "      <td>106.000000</td>\n",
       "      <td>0.000000</td>\n",
       "      <td>0.000000</td>\n",
       "      <td>0.000000</td>\n",
       "      <td>0.00000</td>\n",
       "      <td>0.000000</td>\n",
       "    </tr>\n",
       "    <tr>\n",
       "      <th>75%</th>\n",
       "      <td>204643.750000</td>\n",
       "      <td>301.200000</td>\n",
       "      <td>310.900000</td>\n",
       "      <td>1579.000000</td>\n",
       "      <td>46.200000</td>\n",
       "      <td>158.000000</td>\n",
       "      <td>0.000000</td>\n",
       "      <td>0.000000</td>\n",
       "      <td>0.000000</td>\n",
       "      <td>0.00000</td>\n",
       "      <td>0.000000</td>\n",
       "    </tr>\n",
       "    <tr>\n",
       "      <th>max</th>\n",
       "      <td>227382.000000</td>\n",
       "      <td>304.400000</td>\n",
       "      <td>313.800000</td>\n",
       "      <td>2886.000000</td>\n",
       "      <td>76.600000</td>\n",
       "      <td>253.000000</td>\n",
       "      <td>1.000000</td>\n",
       "      <td>1.000000</td>\n",
       "      <td>1.000000</td>\n",
       "      <td>1.00000</td>\n",
       "      <td>1.000000</td>\n",
       "    </tr>\n",
       "  </tbody>\n",
       "</table>\n",
       "</div>"
      ],
      "text/plain": [
       "                  id  Air temperature [K]  Process temperature [K]  \\\n",
       "count   90954.000000         90954.000000             90954.000000   \n",
       "mean   181905.500000           299.859493               309.939375   \n",
       "std     26256.302529             1.857562                 1.385296   \n",
       "min    136429.000000           295.300000               305.700000   \n",
       "25%    159167.250000           298.300000               308.700000   \n",
       "50%    181905.500000           300.000000               310.000000   \n",
       "75%    204643.750000           301.200000               310.900000   \n",
       "max    227382.000000           304.400000               313.800000   \n",
       "\n",
       "       Rotational speed [rpm]   Torque [Nm]  Tool wear [min]           TWF  \\\n",
       "count            90954.000000  90954.000000     90954.000000  90954.000000   \n",
       "mean              1520.528179     40.335191       104.293962      0.001473   \n",
       "std                139.970419      8.504683        63.871092      0.038355   \n",
       "min               1168.000000      3.800000         0.000000      0.000000   \n",
       "25%               1432.000000     34.600000        48.000000      0.000000   \n",
       "50%               1493.000000     40.500000       106.000000      0.000000   \n",
       "75%               1579.000000     46.200000       158.000000      0.000000   \n",
       "max               2886.000000     76.600000       253.000000      1.000000   \n",
       "\n",
       "                HDF           PWF          OSF           RNF  \n",
       "count  90954.000000  90954.000000  90954.00000  90954.000000  \n",
       "mean       0.005343      0.002353      0.00387      0.002309  \n",
       "std        0.072903      0.048449      0.06209      0.047995  \n",
       "min        0.000000      0.000000      0.00000      0.000000  \n",
       "25%        0.000000      0.000000      0.00000      0.000000  \n",
       "50%        0.000000      0.000000      0.00000      0.000000  \n",
       "75%        0.000000      0.000000      0.00000      0.000000  \n",
       "max        1.000000      1.000000      1.00000      1.000000  "
      ]
     },
     "execution_count": 11,
     "metadata": {},
     "output_type": "execute_result"
    }
   ],
   "source": [
    "df_test.describe()"
   ]
  },
  {
   "cell_type": "code",
   "execution_count": 12,
   "id": "ff5f2cb8",
   "metadata": {},
   "outputs": [
    {
     "data": {
      "text/html": [
       "<div>\n",
       "<style scoped>\n",
       "    .dataframe tbody tr th:only-of-type {\n",
       "        vertical-align: middle;\n",
       "    }\n",
       "\n",
       "    .dataframe tbody tr th {\n",
       "        vertical-align: top;\n",
       "    }\n",
       "\n",
       "    .dataframe thead th {\n",
       "        text-align: right;\n",
       "    }\n",
       "</style>\n",
       "<table border=\"1\" class=\"dataframe\">\n",
       "  <thead>\n",
       "    <tr style=\"text-align: right;\">\n",
       "      <th></th>\n",
       "      <th>Product ID</th>\n",
       "      <th>Type</th>\n",
       "    </tr>\n",
       "  </thead>\n",
       "  <tbody>\n",
       "    <tr>\n",
       "      <th>count</th>\n",
       "      <td>90954</td>\n",
       "      <td>90954</td>\n",
       "    </tr>\n",
       "    <tr>\n",
       "      <th>unique</th>\n",
       "      <td>9909</td>\n",
       "      <td>3</td>\n",
       "    </tr>\n",
       "    <tr>\n",
       "      <th>top</th>\n",
       "      <td>L56257</td>\n",
       "      <td>L</td>\n",
       "    </tr>\n",
       "    <tr>\n",
       "      <th>freq</th>\n",
       "      <td>98</td>\n",
       "      <td>63438</td>\n",
       "    </tr>\n",
       "  </tbody>\n",
       "</table>\n",
       "</div>"
      ],
      "text/plain": [
       "       Product ID   Type\n",
       "count       90954  90954\n",
       "unique       9909      3\n",
       "top        L56257      L\n",
       "freq           98  63438"
      ]
     },
     "execution_count": 12,
     "metadata": {},
     "output_type": "execute_result"
    }
   ],
   "source": [
    "df_test.describe(include=['O'])"
   ]
  },
  {
   "cell_type": "markdown",
   "id": "2ae8638f",
   "metadata": {},
   "source": [
    "<font color='red'>Two columns are Type Object Product ID and Type, Not all values in Product ID are unique hence we do not drop it.<br>Few amount of columns have min value as 0 which can be a problem.<br>We know out target column Machine Failure is a binary class and is given as 0 and 1. Other columns such as [TWF\tHDF\tPWF\tOSF\tRNF]need to be checked if they are actually zero values or is the feature representing a category and is already encoded.<br><font color='blue'>We can see that column id is a unique identifier and has no value to our model hence we will start by dropping it and further checking those minimum 0 columns"
   ]
  },
  {
   "cell_type": "code",
   "execution_count": 13,
   "id": "75ed5beb",
   "metadata": {},
   "outputs": [],
   "source": [
    "df.drop('id',axis=1,inplace=True)"
   ]
  },
  {
   "cell_type": "code",
   "execution_count": 14,
   "id": "3a79d184",
   "metadata": {},
   "outputs": [],
   "source": [
    "df_test.drop('id',axis=1,inplace=True)"
   ]
  },
  {
   "cell_type": "code",
   "execution_count": 15,
   "id": "3d5a57fd",
   "metadata": {},
   "outputs": [
    {
     "name": "stdout",
     "output_type": "stream",
     "text": [
      "Number of Unique Values 2\n",
      "0    136217\n",
      "1       212\n",
      "Name: TWF, dtype: int64\n"
     ]
    }
   ],
   "source": [
    "print('Number of Unique Values',df['TWF'].nunique())\n",
    "print(df['TWF'].value_counts())"
   ]
  },
  {
   "cell_type": "code",
   "execution_count": 16,
   "id": "131f1e62",
   "metadata": {},
   "outputs": [
    {
     "name": "stdout",
     "output_type": "stream",
     "text": [
      "Number of Unique Values 2\n",
      "0    135725\n",
      "1       704\n",
      "Name: HDF, dtype: int64\n"
     ]
    }
   ],
   "source": [
    "print('Number of Unique Values',df['HDF'].nunique())\n",
    "print(df['HDF'].value_counts())"
   ]
  },
  {
   "cell_type": "code",
   "execution_count": 17,
   "id": "152b0787",
   "metadata": {},
   "outputs": [
    {
     "name": "stdout",
     "output_type": "stream",
     "text": [
      "Number of Unique Values 2\n",
      "0    136102\n",
      "1       327\n",
      "Name: PWF, dtype: int64\n"
     ]
    }
   ],
   "source": [
    "print('Number of Unique Values',df['PWF'].nunique())\n",
    "print(df['PWF'].value_counts())"
   ]
  },
  {
   "cell_type": "code",
   "execution_count": 18,
   "id": "3d95f26e",
   "metadata": {},
   "outputs": [
    {
     "name": "stdout",
     "output_type": "stream",
     "text": [
      "Number of Unique Values 2\n",
      "0    135889\n",
      "1       540\n",
      "Name: OSF, dtype: int64\n"
     ]
    }
   ],
   "source": [
    "print('Number of Unique Values',df['OSF'].nunique())\n",
    "print(df['OSF'].value_counts())"
   ]
  },
  {
   "cell_type": "code",
   "execution_count": 19,
   "id": "ea97eea1",
   "metadata": {},
   "outputs": [
    {
     "name": "stdout",
     "output_type": "stream",
     "text": [
      "Number of Unique Values 2\n",
      "0    136121\n",
      "1       308\n",
      "Name: RNF, dtype: int64\n"
     ]
    }
   ],
   "source": [
    "print('Number of Unique Values',df['RNF'].nunique())\n",
    "print(df['RNF'].value_counts())"
   ]
  },
  {
   "cell_type": "markdown",
   "id": "4409dff1",
   "metadata": {},
   "source": [
    "<font color='red'>Kudos its exactly how we predicted these features are actually categorical but they are already transformed into 0 and 1.Another way to quickly identify is to check quartile values in describe function, u can scroll up and see they are zero for all these columns.<br><font color='blue'>Great, Lets Move forward by doing some Univariate Analysis."
   ]
  },
  {
   "cell_type": "markdown",
   "id": "1b213a28",
   "metadata": {},
   "source": [
    "## Univariate Analysis"
   ]
  },
  {
   "cell_type": "code",
   "execution_count": 20,
   "id": "5bbe6fd7",
   "metadata": {},
   "outputs": [
    {
     "name": "stdout",
     "output_type": "stream",
     "text": [
      "Number of Unique Values in Column [0 1]\n"
     ]
    }
   ],
   "source": [
    "print('Number of Unique Values in Column',df['Machine failure'].unique())"
   ]
  },
  {
   "cell_type": "code",
   "execution_count": 21,
   "id": "52f6090c",
   "metadata": {},
   "outputs": [
    {
     "name": "stdout",
     "output_type": "stream",
     "text": [
      "Distribution of values in data 0    134281\n",
      "1      2148\n",
      "Name: Machine failure, dtype: int64\n"
     ]
    }
   ],
   "source": [
    "print('Distribution of values in data',df['Machine failure'].value_counts())"
   ]
  },
  {
   "cell_type": "code",
   "execution_count": 22,
   "id": "804dcfaf",
   "metadata": {},
   "outputs": [
    {
     "name": "stdout",
     "output_type": "stream",
     "text": [
      "Distribution of values in data by percentage 0    98.425555\n",
      "1     1.574445\n",
      "Name: Machine failure, dtype: float64\n"
     ]
    }
   ],
   "source": [
    "print('Distribution of values in data by percentage',df['Machine failure'].value_counts()/len(df)*100)"
   ]
  },
  {
   "cell_type": "code",
   "execution_count": 23,
   "id": "3741e152",
   "metadata": {},
   "outputs": [
    {
     "data": {
      "text/plain": [
       "<Axes: xlabel='Machine failure', ylabel='count'>"
      ]
     },
     "execution_count": 23,
     "metadata": {},
     "output_type": "execute_result"
    },
    {
     "data": {
      "image/png": "[encoded data removed]",
      "text/plain": [
       "<Figure size 640x480 with 1 Axes>"
      ]
     },
     "metadata": {},
     "output_type": "display_data"
    }
   ],
   "source": [
    "sns.countplot(x='Machine failure',data=df)"
   ]
  },
  {
   "cell_type": "markdown",
   "id": "c7ef54c8",
   "metadata": {},
   "source": [
    "<font color='red'>Clearly we can see an imbalance in the data, We will have to tackle it later by either Undersampling or Over sampling, We are more likely to select undersampling.<br><font color='blue'>Lets take one step further by doing some "
   ]
  },
  {
   "cell_type": "markdown",
   "id": "ea438016",
   "metadata": {},
   "source": [
    "## Multivariate analysis "
   ]
  },
  {
   "cell_type": "markdown",
   "id": "f8e2b8d8",
   "metadata": {},
   "source": [
    "<font color='blue'>Lets start with the correlation matrix to see get an idea about how well the columns are in relation with target and also to spot if any columns introduce multicolinearity"
   ]
  },
  {
   "cell_type": "code",
   "execution_count": 24,
   "id": "aaafb65c",
   "metadata": {},
   "outputs": [
    {
     "data": {
      "text/plain": [
       "<Axes: >"
      ]
     },
     "execution_count": 24,
     "metadata": {},
     "output_type": "execute_result"
    },
    {
     "data": {
      "image/png": "[encoded data removed]",
      "text/plain": [
       "<Figure size 1000x500 with 2 Axes>"
      ]
     },
     "metadata": {},
     "output_type": "display_data"
    }
   ],
   "source": [
    "plt.figure(figsize=(10,5))\n",
    "sns.heatmap(data=df.select_dtypes(['float64','int64']).corr(),annot=True,fmt='0.2f',linewidths=2,linecolor='orange')"
   ]
  },
  {
   "cell_type": "markdown",
   "id": "602ae5c1",
   "metadata": {},
   "source": [
    "<font color='red'>There it is , Air temperature and Process temperature they are both highly collinear to each other and thus shall introduce multicollinearity. Basically in simple words our model will not be able to understand that the influence in target is coming from which column.<br>Ideally we should drop the column which has least collinearity with the target column.<br>Similarly Rotational speed and Torgue have strong negative corelation.\n",
    "<br><font color='blue'>We shall divide our columns into two list one for numerical and other for categorical which will make it easy to visualize it"
   ]
  },
  {
   "cell_type": "code",
   "execution_count": 25,
   "id": "796fd4b5",
   "metadata": {},
   "outputs": [],
   "source": [
    "numerical_columns = ['Air temperature [K]','Process temperature [K]','Rotational speed [rpm]','Torque [Nm]','Tool wear [min]']\n",
    "categorical_columns = ['Product ID', 'Type','TWF', 'HDF', 'PWF', 'OSF', 'RNF']"
   ]
  },
  {
   "cell_type": "code",
   "execution_count": 26,
   "id": "f4a6701e",
   "metadata": {},
   "outputs": [
    {
     "name": "stdout",
     "output_type": "stream",
     "text": [
      "The skewness for Air temperature [K]is:  0.16117486841595963\n",
      "The skewness for Process temperature [K]is:  0.057088237929182134\n",
      "The skewness for Rotational speed [rpm]is:  1.8882503109110036\n",
      "The skewness for Torque [Nm]is:  -0.028963391079620402\n",
      "The skewness for Tool wear [min]is:  -0.027309909673089966\n"
     ]
    },
    {
     "data": {
      "image/png": "[encoded data removed]",
      "text/plain": [
       "<Figure size 2000x400 with 2 Axes>"
      ]
     },
     "metadata": {},
     "output_type": "display_data"
    },
    {
     "data": {
      "image/png": "[encoded data removed]",
      "text/plain": [
       "<Figure size 2000x400 with 2 Axes>"
      ]
     },
     "metadata": {},
     "output_type": "display_data"
    },
    {
     "data": {
      "image/png": "[encoded data removed]",
      "text/plain": [
       "<Figure size 2000x400 with 2 Axes>"
      ]
     },
     "metadata": {},
     "output_type": "display_data"
    },
    {
     "data": {
      "image/png": "[encoded data removed]",
      "text/plain": [
       "<Figure size 2000x400 with 2 Axes>"
      ]
     },
     "metadata": {},
     "output_type": "display_data"
    },
    {
     "data": {
      "image/png": "[encoded data removed]",
      "text/plain": [
       "<Figure size 2000x400 with 2 Axes>"
      ]
     },
     "metadata": {},
     "output_type": "display_data"
    }
   ],
   "source": [
    "for i in numerical_columns:\n",
    "    print('The skewness for '+i+'is: ',df[i].skew())\n",
    "    plt.figure(figsize=(20,4))\n",
    "    plt.subplot(1,2,1)\n",
    "    sns.distplot(a=df[i],kde=False)\n",
    "    \n",
    "    plt.subplot(1,2,2)\n",
    "    sns.boxplot(x='Machine failure',y=i,data=df)"
   ]
  },
  {
   "cell_type": "markdown",
   "id": "1699f083",
   "metadata": {},
   "source": [
    "<font color='red'>Too many Outliers on Rotational Speed, will look to normalize it later."
   ]
  },
  {
   "cell_type": "code",
   "execution_count": 27,
   "id": "b684b31c",
   "metadata": {
    "scrolled": false
   },
   "outputs": [
    {
     "data": {
      "image/png": "[encoded data removed]",
      "text/plain": [
       "<Figure size 2000x400 with 1 Axes>"
      ]
     },
     "metadata": {},
     "output_type": "display_data"
    },
    {
     "data": {
      "image/png": "[encoded data removed]",
      "text/plain": [
       "<Figure size 2000x400 with 1 Axes>"
      ]
     },
     "metadata": {},
     "output_type": "display_data"
    },
    {
     "data": {
      "image/png": "[encoded data removed]",
      "text/plain": [
       "<Figure size 2000x400 with 1 Axes>"
      ]
     },
     "metadata": {},
     "output_type": "display_data"
    },
    {
     "data": {
      "image/png": "[encoded data removed]",
      "text/plain": [
       "<Figure size 2000x400 with 1 Axes>"
      ]
     },
     "metadata": {},
     "output_type": "display_data"
    },
    {
     "data": {
      "image/png": "[encoded data removed]",
      "text/plain": [
       "<Figure size 2000x400 with 1 Axes>"
      ]
     },
     "metadata": {},
     "output_type": "display_data"
    },
    {
     "data": {
      "image/png": "[encoded data removed]",
      "text/plain": [
       "<Figure size 2000x400 with 1 Axes>"
      ]
     },
     "metadata": {},
     "output_type": "display_data"
    },
    {
     "data": {
      "image/png": "[encoded data removed]",
      "text/plain": [
       "<Figure size 2000x400 with 1 Axes>"
      ]
     },
     "metadata": {},
     "output_type": "display_data"
    }
   ],
   "source": [
    "for i in categorical_columns:\n",
    "    plt.figure(figsize=(20,4))\n",
    "    plt.subplot(1,2,1)\n",
    "    plt.xlabel('Count')\n",
    "    sns.countplot(x=i,data=df)\n",
    "    "
   ]
  },
  {
   "cell_type": "markdown",
   "id": "1c92f306",
   "metadata": {},
   "source": [
    "<font color='blue'>Lets see how many unique values are there in Product ID"
   ]
  },
  {
   "cell_type": "code",
   "execution_count": 28,
   "id": "2acf0b6b",
   "metadata": {},
   "outputs": [
    {
     "data": {
      "text/plain": [
       "9976"
      ]
     },
     "execution_count": 28,
     "metadata": {},
     "output_type": "execute_result"
    }
   ],
   "source": [
    "df['Product ID'].nunique()"
   ]
  },
  {
   "cell_type": "code",
   "execution_count": 29,
   "id": "b3d054e8",
   "metadata": {
    "scrolled": true
   },
   "outputs": [
    {
     "data": {
      "text/plain": [
       "L53257    139\n",
       "L49056    131\n",
       "L53271    131\n",
       "L54275    120\n",
       "L48892    120\n",
       "         ... \n",
       "M24614      1\n",
       "H39399      1\n",
       "M15853      1\n",
       "H32637      1\n",
       "L48036      1\n",
       "Name: Product ID, Length: 9976, dtype: int64"
      ]
     },
     "execution_count": 29,
     "metadata": {},
     "output_type": "execute_result"
    }
   ],
   "source": [
    "df['Product ID'].value_counts()"
   ]
  },
  {
   "cell_type": "markdown",
   "id": "df8bb879",
   "metadata": {},
   "source": [
    "<font color='red'>As we can see there are multiple occurences of the same product , in laymen terms a faulty product is likely to have more records and is more likley to have a machine failure.<br>If two different machines have failed 5 times, the likelyhood of it failing again is the same , the likelyhood doesnt depend on the name of the machine.<br>Hence during data transformation we shall replace the column Product ID with Frequency of occurence for that product."
   ]
  },
  {
   "cell_type": "markdown",
   "id": "f091e899",
   "metadata": {},
   "source": [
    "## Data preprocessing and cleaning"
   ]
  },
  {
   "cell_type": "markdown",
   "id": "292299f5",
   "metadata": {},
   "source": [
    "<font color='blue'>Let's Start with Checking for Null Values"
   ]
  },
  {
   "cell_type": "code",
   "execution_count": 30,
   "id": "0ed5ace7",
   "metadata": {},
   "outputs": [
    {
     "data": {
      "text/plain": [
       "Product ID                 0\n",
       "Type                       0\n",
       "Air temperature [K]        0\n",
       "Process temperature [K]    0\n",
       "Rotational speed [rpm]     0\n",
       "Torque [Nm]                0\n",
       "Tool wear [min]            0\n",
       "Machine failure            0\n",
       "TWF                        0\n",
       "HDF                        0\n",
       "PWF                        0\n",
       "OSF                        0\n",
       "RNF                        0\n",
       "dtype: int64"
      ]
     },
     "execution_count": 30,
     "metadata": {},
     "output_type": "execute_result"
    }
   ],
   "source": [
    "df.isna().sum()"
   ]
  },
  {
   "cell_type": "code",
   "execution_count": 31,
   "id": "195285a7",
   "metadata": {},
   "outputs": [
    {
     "data": {
      "text/plain": [
       "Product ID                 0\n",
       "Type                       0\n",
       "Air temperature [K]        0\n",
       "Process temperature [K]    0\n",
       "Rotational speed [rpm]     0\n",
       "Torque [Nm]                0\n",
       "Tool wear [min]            0\n",
       "TWF                        0\n",
       "HDF                        0\n",
       "PWF                        0\n",
       "OSF                        0\n",
       "RNF                        0\n",
       "dtype: int64"
      ]
     },
     "execution_count": 31,
     "metadata": {},
     "output_type": "execute_result"
    }
   ],
   "source": [
    "df_test.isna().sum()"
   ]
  },
  {
   "cell_type": "markdown",
   "id": "95944378",
   "metadata": {},
   "source": [
    "<font color='red'>We can our data has no null values. Yayyy!<br><font color='blue'>Next Step that we will do is to replace Product ID with Frequency column.We will use simple map function to achieve it."
   ]
  },
  {
   "cell_type": "code",
   "execution_count": 32,
   "id": "a700c988",
   "metadata": {},
   "outputs": [],
   "source": [
    "value_counts = df['Product ID'].value_counts()\n",
    "frequency_map = value_counts.to_dict()\n",
    "df['frequency_column'] = df['Product ID'].map(frequency_map)\n",
    "df.drop('Product ID',axis=1,inplace=True)"
   ]
  },
  {
   "cell_type": "code",
   "execution_count": 33,
   "id": "f6c7b9bd",
   "metadata": {},
   "outputs": [],
   "source": [
    "value_counts_test = df_test['Product ID'].value_counts()\n",
    "frequency_map_test = value_counts_test.to_dict()\n",
    "df_test['frequency_column'] = df_test['Product ID'].map(frequency_map_test)\n",
    "df_test.drop('Product ID',axis=1,inplace=True)"
   ]
  },
  {
   "cell_type": "markdown",
   "id": "aed4a8b6",
   "metadata": {},
   "source": [
    "<font color='blue'>Using LabelEncoder we shall convert column 'Type' to Numbers.<br>Lets start by importing the library and creating its object and fitting the column to function"
   ]
  },
  {
   "cell_type": "code",
   "execution_count": 34,
   "id": "f25db6ee",
   "metadata": {},
   "outputs": [],
   "source": [
    "from sklearn.preprocessing import LabelEncoder"
   ]
  },
  {
   "cell_type": "code",
   "execution_count": 35,
   "id": "cb525a1e",
   "metadata": {},
   "outputs": [],
   "source": [
    "le = LabelEncoder()\n",
    "df['Type']=le.fit_transform(df['Type'])"
   ]
  },
  {
   "cell_type": "code",
   "execution_count": 36,
   "id": "21070749",
   "metadata": {},
   "outputs": [
    {
     "data": {
      "text/html": [
       "<div>\n",
       "<style scoped>\n",
       "    .dataframe tbody tr th:only-of-type {\n",
       "        vertical-align: middle;\n",
       "    }\n",
       "\n",
       "    .dataframe tbody tr th {\n",
       "        vertical-align: top;\n",
       "    }\n",
       "\n",
       "    .dataframe thead th {\n",
       "        text-align: right;\n",
       "    }\n",
       "</style>\n",
       "<table border=\"1\" class=\"dataframe\">\n",
       "  <thead>\n",
       "    <tr style=\"text-align: right;\">\n",
       "      <th></th>\n",
       "      <th>Type</th>\n",
       "      <th>Air temperature [K]</th>\n",
       "      <th>Process temperature [K]</th>\n",
       "      <th>Rotational speed [rpm]</th>\n",
       "      <th>Torque [Nm]</th>\n",
       "      <th>Tool wear [min]</th>\n",
       "      <th>Machine failure</th>\n",
       "      <th>TWF</th>\n",
       "      <th>HDF</th>\n",
       "      <th>PWF</th>\n",
       "      <th>OSF</th>\n",
       "      <th>RNF</th>\n",
       "      <th>frequency_column</th>\n",
       "    </tr>\n",
       "  </thead>\n",
       "  <tbody>\n",
       "    <tr>\n",
       "      <th>0</th>\n",
       "      <td>1</td>\n",
       "      <td>300.6</td>\n",
       "      <td>309.6</td>\n",
       "      <td>1596</td>\n",
       "      <td>36.1</td>\n",
       "      <td>140</td>\n",
       "      <td>0</td>\n",
       "      <td>0</td>\n",
       "      <td>0</td>\n",
       "      <td>0</td>\n",
       "      <td>0</td>\n",
       "      <td>0</td>\n",
       "      <td>25</td>\n",
       "    </tr>\n",
       "    <tr>\n",
       "      <th>1</th>\n",
       "      <td>2</td>\n",
       "      <td>302.6</td>\n",
       "      <td>312.1</td>\n",
       "      <td>1759</td>\n",
       "      <td>29.1</td>\n",
       "      <td>200</td>\n",
       "      <td>0</td>\n",
       "      <td>0</td>\n",
       "      <td>0</td>\n",
       "      <td>0</td>\n",
       "      <td>0</td>\n",
       "      <td>0</td>\n",
       "      <td>20</td>\n",
       "    </tr>\n",
       "    <tr>\n",
       "      <th>2</th>\n",
       "      <td>1</td>\n",
       "      <td>299.3</td>\n",
       "      <td>308.5</td>\n",
       "      <td>1805</td>\n",
       "      <td>26.5</td>\n",
       "      <td>25</td>\n",
       "      <td>0</td>\n",
       "      <td>0</td>\n",
       "      <td>0</td>\n",
       "      <td>0</td>\n",
       "      <td>0</td>\n",
       "      <td>0</td>\n",
       "      <td>33</td>\n",
       "    </tr>\n",
       "    <tr>\n",
       "      <th>3</th>\n",
       "      <td>1</td>\n",
       "      <td>301.0</td>\n",
       "      <td>310.9</td>\n",
       "      <td>1524</td>\n",
       "      <td>44.3</td>\n",
       "      <td>197</td>\n",
       "      <td>0</td>\n",
       "      <td>0</td>\n",
       "      <td>0</td>\n",
       "      <td>0</td>\n",
       "      <td>0</td>\n",
       "      <td>0</td>\n",
       "      <td>29</td>\n",
       "    </tr>\n",
       "    <tr>\n",
       "      <th>4</th>\n",
       "      <td>2</td>\n",
       "      <td>298.0</td>\n",
       "      <td>309.0</td>\n",
       "      <td>1641</td>\n",
       "      <td>35.4</td>\n",
       "      <td>34</td>\n",
       "      <td>0</td>\n",
       "      <td>0</td>\n",
       "      <td>0</td>\n",
       "      <td>0</td>\n",
       "      <td>0</td>\n",
       "      <td>0</td>\n",
       "      <td>8</td>\n",
       "    </tr>\n",
       "  </tbody>\n",
       "</table>\n",
       "</div>"
      ],
      "text/plain": [
       "   Type  Air temperature [K]  Process temperature [K]  Rotational speed [rpm]  \\\n",
       "0     1                300.6                    309.6                    1596   \n",
       "1     2                302.6                    312.1                    1759   \n",
       "2     1                299.3                    308.5                    1805   \n",
       "3     1                301.0                    310.9                    1524   \n",
       "4     2                298.0                    309.0                    1641   \n",
       "\n",
       "   Torque [Nm]  Tool wear [min]  Machine failure  TWF  HDF  PWF  OSF  RNF  \\\n",
       "0         36.1              140                0    0    0    0    0    0   \n",
       "1         29.1              200                0    0    0    0    0    0   \n",
       "2         26.5               25                0    0    0    0    0    0   \n",
       "3         44.3              197                0    0    0    0    0    0   \n",
       "4         35.4               34                0    0    0    0    0    0   \n",
       "\n",
       "   frequency_column  \n",
       "0                25  \n",
       "1                20  \n",
       "2                33  \n",
       "3                29  \n",
       "4                 8  "
      ]
     },
     "execution_count": 36,
     "metadata": {},
     "output_type": "execute_result"
    }
   ],
   "source": [
    "df.head()"
   ]
  },
  {
   "cell_type": "code",
   "execution_count": 37,
   "id": "b15f9231",
   "metadata": {},
   "outputs": [],
   "source": [
    "df_test['Type']=le.fit_transform(df_test['Type'])"
   ]
  },
  {
   "cell_type": "markdown",
   "id": "8d81ac6d",
   "metadata": {},
   "source": [
    "<font color='blue'>Next we will use Standard Scalar on Rotational speed [rpm] cuz the spread is too large compared to other features"
   ]
  },
  {
   "cell_type": "code",
   "execution_count": 38,
   "id": "f978f505",
   "metadata": {},
   "outputs": [],
   "source": [
    "from sklearn.preprocessing import StandardScaler"
   ]
  },
  {
   "cell_type": "code",
   "execution_count": 39,
   "id": "09190233",
   "metadata": {},
   "outputs": [],
   "source": [
    "sc = StandardScaler()\n",
    "df['Rotational speed [rpm]']=sc.fit_transform(df['Rotational speed [rpm]'].values.reshape(-1,1))"
   ]
  },
  {
   "cell_type": "code",
   "execution_count": 40,
   "id": "4b026d52",
   "metadata": {},
   "outputs": [
    {
     "data": {
      "text/html": [
       "<div>\n",
       "<style scoped>\n",
       "    .dataframe tbody tr th:only-of-type {\n",
       "        vertical-align: middle;\n",
       "    }\n",
       "\n",
       "    .dataframe tbody tr th {\n",
       "        vertical-align: top;\n",
       "    }\n",
       "\n",
       "    .dataframe thead th {\n",
       "        text-align: right;\n",
       "    }\n",
       "</style>\n",
       "<table border=\"1\" class=\"dataframe\">\n",
       "  <thead>\n",
       "    <tr style=\"text-align: right;\">\n",
       "      <th></th>\n",
       "      <th>Type</th>\n",
       "      <th>Air temperature [K]</th>\n",
       "      <th>Process temperature [K]</th>\n",
       "      <th>Rotational speed [rpm]</th>\n",
       "      <th>Torque [Nm]</th>\n",
       "      <th>Tool wear [min]</th>\n",
       "      <th>Machine failure</th>\n",
       "      <th>TWF</th>\n",
       "      <th>HDF</th>\n",
       "      <th>PWF</th>\n",
       "      <th>OSF</th>\n",
       "      <th>RNF</th>\n",
       "      <th>frequency_column</th>\n",
       "    </tr>\n",
       "  </thead>\n",
       "  <tbody>\n",
       "    <tr>\n",
       "      <th>0</th>\n",
       "      <td>1</td>\n",
       "      <td>300.6</td>\n",
       "      <td>309.6</td>\n",
       "      <td>0.545416</td>\n",
       "      <td>36.1</td>\n",
       "      <td>140</td>\n",
       "      <td>0</td>\n",
       "      <td>0</td>\n",
       "      <td>0</td>\n",
       "      <td>0</td>\n",
       "      <td>0</td>\n",
       "      <td>0</td>\n",
       "      <td>25</td>\n",
       "    </tr>\n",
       "    <tr>\n",
       "      <th>1</th>\n",
       "      <td>2</td>\n",
       "      <td>302.6</td>\n",
       "      <td>312.1</td>\n",
       "      <td>1.720308</td>\n",
       "      <td>29.1</td>\n",
       "      <td>200</td>\n",
       "      <td>0</td>\n",
       "      <td>0</td>\n",
       "      <td>0</td>\n",
       "      <td>0</td>\n",
       "      <td>0</td>\n",
       "      <td>0</td>\n",
       "      <td>20</td>\n",
       "    </tr>\n",
       "    <tr>\n",
       "      <th>2</th>\n",
       "      <td>1</td>\n",
       "      <td>299.3</td>\n",
       "      <td>308.5</td>\n",
       "      <td>2.051873</td>\n",
       "      <td>26.5</td>\n",
       "      <td>25</td>\n",
       "      <td>0</td>\n",
       "      <td>0</td>\n",
       "      <td>0</td>\n",
       "      <td>0</td>\n",
       "      <td>0</td>\n",
       "      <td>0</td>\n",
       "      <td>33</td>\n",
       "    </tr>\n",
       "    <tr>\n",
       "      <th>3</th>\n",
       "      <td>1</td>\n",
       "      <td>301.0</td>\n",
       "      <td>310.9</td>\n",
       "      <td>0.026445</td>\n",
       "      <td>44.3</td>\n",
       "      <td>197</td>\n",
       "      <td>0</td>\n",
       "      <td>0</td>\n",
       "      <td>0</td>\n",
       "      <td>0</td>\n",
       "      <td>0</td>\n",
       "      <td>0</td>\n",
       "      <td>29</td>\n",
       "    </tr>\n",
       "    <tr>\n",
       "      <th>4</th>\n",
       "      <td>2</td>\n",
       "      <td>298.0</td>\n",
       "      <td>309.0</td>\n",
       "      <td>0.869773</td>\n",
       "      <td>35.4</td>\n",
       "      <td>34</td>\n",
       "      <td>0</td>\n",
       "      <td>0</td>\n",
       "      <td>0</td>\n",
       "      <td>0</td>\n",
       "      <td>0</td>\n",
       "      <td>0</td>\n",
       "      <td>8</td>\n",
       "    </tr>\n",
       "  </tbody>\n",
       "</table>\n",
       "</div>"
      ],
      "text/plain": [
       "   Type  Air temperature [K]  Process temperature [K]  Rotational speed [rpm]  \\\n",
       "0     1                300.6                    309.6                0.545416   \n",
       "1     2                302.6                    312.1                1.720308   \n",
       "2     1                299.3                    308.5                2.051873   \n",
       "3     1                301.0                    310.9                0.026445   \n",
       "4     2                298.0                    309.0                0.869773   \n",
       "\n",
       "   Torque [Nm]  Tool wear [min]  Machine failure  TWF  HDF  PWF  OSF  RNF  \\\n",
       "0         36.1              140                0    0    0    0    0    0   \n",
       "1         29.1              200                0    0    0    0    0    0   \n",
       "2         26.5               25                0    0    0    0    0    0   \n",
       "3         44.3              197                0    0    0    0    0    0   \n",
       "4         35.4               34                0    0    0    0    0    0   \n",
       "\n",
       "   frequency_column  \n",
       "0                25  \n",
       "1                20  \n",
       "2                33  \n",
       "3                29  \n",
       "4                 8  "
      ]
     },
     "execution_count": 40,
     "metadata": {},
     "output_type": "execute_result"
    }
   ],
   "source": [
    "df.head()"
   ]
  },
  {
   "cell_type": "code",
   "execution_count": 41,
   "id": "6ba315a7",
   "metadata": {},
   "outputs": [],
   "source": [
    "df_test['Rotational speed [rpm]']=sc.fit_transform(df_test['Rotational speed [rpm]'].values.reshape(-1,1))"
   ]
  },
  {
   "cell_type": "markdown",
   "id": "0fb9875d",
   "metadata": {},
   "source": [
    "<font color='blue'>Last we saw both Air temperature [K]\tand Process temperature [K]\twere introducing mulitcolinearity hence we are going to remove one of them , we shall keep Air temperature cuz it has higher correlation to Machine failure"
   ]
  },
  {
   "cell_type": "code",
   "execution_count": 42,
   "id": "0af1f00d",
   "metadata": {},
   "outputs": [],
   "source": [
    "df.drop('Process temperature [K]',axis=1,inplace=True)\n",
    "df_test.drop('Process temperature [K]',axis=1,inplace=True)"
   ]
  },
  {
   "cell_type": "markdown",
   "id": "182f8cd1",
   "metadata": {},
   "source": [
    "<font color='blue'>Our Next step will be to split the data into training data and testing data"
   ]
  },
  {
   "cell_type": "code",
   "execution_count": 43,
   "id": "2540bc17",
   "metadata": {},
   "outputs": [],
   "source": [
    "y = df['Machine failure']\n",
    "X = df.drop('Machine failure',axis=1)"
   ]
  },
  {
   "cell_type": "code",
   "execution_count": 44,
   "id": "a695c8f3",
   "metadata": {},
   "outputs": [],
   "source": [
    "from sklearn.model_selection import train_test_split\n",
    "X_train,X_test,y_train,y_test = train_test_split(X,y,test_size=0.3,stratify=y,random_state=123)"
   ]
  },
  {
   "cell_type": "markdown",
   "id": "3b352ed4",
   "metadata": {},
   "source": [
    "<font color='red'>Mind it the dataset is still imbalanced we are just trying to see how our model performs and based on that we shall use resampled data later"
   ]
  },
  {
   "cell_type": "markdown",
   "id": "00e78299",
   "metadata": {},
   "source": [
    "## Building and evaluating machine learning models\n",
    "<font color='blue'>Let's Start by building out model. Since the problem at hand is binary classification and we have less number of columns we will give our first attemp to solving with Logistic Regression<br>We will start by importing the necessary libraries for modelling and evaluation"
   ]
  },
  {
   "cell_type": "code",
   "execution_count": 45,
   "id": "faa06eef",
   "metadata": {},
   "outputs": [],
   "source": [
    "from sklearn.linear_model import LogisticRegression\n",
    "from sklearn.metrics import confusion_matrix,classification_report,f1_score,roc_auc_score"
   ]
  },
  {
   "cell_type": "markdown",
   "id": "52252e68",
   "metadata": {},
   "source": [
    "### Logistic Regression"
   ]
  },
  {
   "cell_type": "code",
   "execution_count": 46,
   "id": "2b27fecc",
   "metadata": {},
   "outputs": [],
   "source": [
    "log = LogisticRegression()"
   ]
  },
  {
   "cell_type": "code",
   "execution_count": 47,
   "id": "5abff41b",
   "metadata": {},
   "outputs": [
    {
     "data": {
      "text/plain": [
       "LogisticRegression()"
      ]
     },
     "execution_count": 47,
     "metadata": {},
     "output_type": "execute_result"
    }
   ],
   "source": [
    "log.fit(X_train,y_train)"
   ]
  },
  {
   "cell_type": "code",
   "execution_count": 48,
   "id": "63c5ac5c",
   "metadata": {},
   "outputs": [],
   "source": [
    "y_pred_log = log.predict(X_test)"
   ]
  },
  {
   "cell_type": "code",
   "execution_count": 49,
   "id": "70baaf6f",
   "metadata": {},
   "outputs": [
    {
     "data": {
      "text/plain": [
       "0.9948691636736788"
      ]
     },
     "execution_count": 49,
     "metadata": {},
     "output_type": "execute_result"
    }
   ],
   "source": [
    "log.score(X_test,y_test)"
   ]
  },
  {
   "cell_type": "code",
   "execution_count": 50,
   "id": "b4dc7d24",
   "metadata": {},
   "outputs": [
    {
     "data": {
      "text/plain": [
       "array([[40281,     4],\n",
       "       [  206,   438]], dtype=int64)"
      ]
     },
     "execution_count": 50,
     "metadata": {},
     "output_type": "execute_result"
    }
   ],
   "source": [
    "confusion_matrix(y_test,y_pred_log)"
   ]
  },
  {
   "cell_type": "code",
   "execution_count": 51,
   "id": "2cd03f31",
   "metadata": {},
   "outputs": [
    {
     "name": "stdout",
     "output_type": "stream",
     "text": [
      "              precision    recall  f1-score   support\n",
      "\n",
      "           0       0.99      1.00      1.00     40285\n",
      "           1       0.99      0.68      0.81       644\n",
      "\n",
      "    accuracy                           0.99     40929\n",
      "   macro avg       0.99      0.84      0.90     40929\n",
      "weighted avg       0.99      0.99      0.99     40929\n",
      "\n"
     ]
    }
   ],
   "source": [
    "print(classification_report(y_test,y_pred_log))"
   ]
  },
  {
   "cell_type": "markdown",
   "id": "308604fb",
   "metadata": {},
   "source": [
    "<font color='red'>WEll Congrats 99% accuracy , but there lies a hidden problem.<br>Our model does a near perfect job in predicitng when a machine wont fail but not so well when a machine will fail and that is confirmed by the poor recall for target 1.<br><font color='blue'>Hence in such cases we are supposed to go with sampling techniques<br>We will start by importing the right libraries and resampling the data"
   ]
  },
  {
   "cell_type": "markdown",
   "id": "24d90201",
   "metadata": {},
   "source": [
    "### UnderSampling"
   ]
  },
  {
   "cell_type": "code",
   "execution_count": 52,
   "id": "4f10247b",
   "metadata": {},
   "outputs": [],
   "source": [
    "from imblearn.under_sampling import NearMiss"
   ]
  },
  {
   "cell_type": "code",
   "execution_count": 53,
   "id": "6221f6e2",
   "metadata": {},
   "outputs": [],
   "source": [
    "nm = NearMiss()"
   ]
  },
  {
   "cell_type": "code",
   "execution_count": 54,
   "id": "0175e61e",
   "metadata": {},
   "outputs": [],
   "source": [
    "X_resample,y_resample = nm.fit_resample(X,y)"
   ]
  },
  {
   "cell_type": "code",
   "execution_count": 55,
   "id": "a851a4d7",
   "metadata": {},
   "outputs": [
    {
     "name": "stdout",
     "output_type": "stream",
     "text": [
      "Shape of original Data X (136429, 11)   Shape of Resampled Data X (4296, 11)\n",
      "Value count of original Data y:\n",
      " 0    134281\n",
      "1      2148\n",
      "Name: Machine failure, dtype: int64\n",
      "Value count of Resampled Data y:\n",
      " 0    2148\n",
      "1    2148\n",
      "Name: Machine failure, dtype: int64\n"
     ]
    }
   ],
   "source": [
    "print('Shape of original Data X',X.shape,'  Shape of Resampled Data X',X_resample.shape)\n",
    "print('Value count of original Data y:\\n',y.value_counts())\n",
    "print('Value count of Resampled Data y:\\n',y_resample.value_counts())"
   ]
  },
  {
   "cell_type": "code",
   "execution_count": 56,
   "id": "6a27487d",
   "metadata": {},
   "outputs": [],
   "source": [
    "X_resample = X_resample.rename(columns={'Air temperature [K]':'Air temperature','Rotational speed [rpm]':'Rotational speed','Torque [Nm]':'Torque','Tool wear [min]':'Tool wear'})"
   ]
  },
  {
   "cell_type": "markdown",
   "id": "ebcf499d",
   "metadata": {},
   "source": [
    "<font color='blue'>Now we shall split the resampled data again into train and test"
   ]
  },
  {
   "cell_type": "code",
   "execution_count": 57,
   "id": "20f40ebb",
   "metadata": {},
   "outputs": [],
   "source": [
    "X_resampled_train,X_resampled_test,y_resampled_train,y_resampled_test = train_test_split(X_resample,y_resample,random_state=123,test_size=0.2)"
   ]
  },
  {
   "cell_type": "markdown",
   "id": "a0eda0ae",
   "metadata": {},
   "source": [
    "<font color='blue'>Now we will use resampled data and check how well the model is doing"
   ]
  },
  {
   "cell_type": "markdown",
   "id": "3a0f861a",
   "metadata": {},
   "source": [
    "### Logistic with UnderSampling"
   ]
  },
  {
   "cell_type": "code",
   "execution_count": 58,
   "id": "90d0835a",
   "metadata": {},
   "outputs": [
    {
     "data": {
      "text/plain": [
       "LogisticRegression()"
      ]
     },
     "execution_count": 58,
     "metadata": {},
     "output_type": "execute_result"
    }
   ],
   "source": [
    "log.fit(X_resampled_train,y_resampled_train)"
   ]
  },
  {
   "cell_type": "code",
   "execution_count": 59,
   "id": "fb025ee2",
   "metadata": {},
   "outputs": [],
   "source": [
    "y_resampled_pred_log = log.predict(X_resampled_test)\n",
    "y_resampled_pred_prob = log.predict_proba(X_resampled_test)\n",
    "y_resampled_pred_prob_log_positive = y_resampled_pred_prob[:,1]\n"
   ]
  },
  {
   "cell_type": "code",
   "execution_count": 60,
   "id": "7fd17b77",
   "metadata": {},
   "outputs": [
    {
     "data": {
      "text/plain": [
       "0.8848837209302326"
      ]
     },
     "execution_count": 60,
     "metadata": {},
     "output_type": "execute_result"
    }
   ],
   "source": [
    "log.score(X_resampled_test,y_resampled_test)"
   ]
  },
  {
   "cell_type": "code",
   "execution_count": 61,
   "id": "3edc51ee",
   "metadata": {},
   "outputs": [
    {
     "data": {
      "text/plain": [
       "array([[425,   0],\n",
       "       [ 99, 336]], dtype=int64)"
      ]
     },
     "execution_count": 61,
     "metadata": {},
     "output_type": "execute_result"
    }
   ],
   "source": [
    "confusion_matrix(y_resampled_test,y_resampled_pred_log)"
   ]
  },
  {
   "cell_type": "code",
   "execution_count": 62,
   "id": "82cd5471",
   "metadata": {},
   "outputs": [
    {
     "name": "stdout",
     "output_type": "stream",
     "text": [
      "              precision    recall  f1-score   support\n",
      "\n",
      "           0       0.81      1.00      0.90       425\n",
      "           1       1.00      0.77      0.87       435\n",
      "\n",
      "    accuracy                           0.88       860\n",
      "   macro avg       0.91      0.89      0.88       860\n",
      "weighted avg       0.91      0.88      0.88       860\n",
      "\n"
     ]
    }
   ],
   "source": [
    "print(classification_report(y_resampled_test,y_resampled_pred_log))"
   ]
  },
  {
   "cell_type": "code",
   "execution_count": 63,
   "id": "3e0b89e4",
   "metadata": {
    "scrolled": true
   },
   "outputs": [
    {
     "data": {
      "text/plain": [
       "0.8994455713319812"
      ]
     },
     "execution_count": 63,
     "metadata": {},
     "output_type": "execute_result"
    }
   ],
   "source": [
    "roc_auc_score(y_resampled_test,y_resampled_pred_prob_log_positive)"
   ]
  },
  {
   "cell_type": "markdown",
   "id": "4da4bae7",
   "metadata": {},
   "source": [
    "<font color='red'>Well as expected but not good enough, we can see an improve for target 1, but its not enough to be called a good model<br><font color='blue'>Next we shall try using SVC to determin if any non - linear relationships were missed out"
   ]
  },
  {
   "cell_type": "markdown",
   "id": "ca45e785",
   "metadata": {},
   "source": [
    "### SVC"
   ]
  },
  {
   "cell_type": "code",
   "execution_count": 99,
   "id": "11317bde",
   "metadata": {},
   "outputs": [],
   "source": [
    "from sklearn.svm import SVC"
   ]
  },
  {
   "cell_type": "code",
   "execution_count": 100,
   "id": "701734e2",
   "metadata": {},
   "outputs": [],
   "source": [
    "svc = SVC(kernel = 'linear',probability=True)"
   ]
  },
  {
   "cell_type": "code",
   "execution_count": 101,
   "id": "093851bc",
   "metadata": {},
   "outputs": [
    {
     "data": {
      "text/plain": [
       "SVC(kernel='linear', probability=True)"
      ]
     },
     "execution_count": 101,
     "metadata": {},
     "output_type": "execute_result"
    }
   ],
   "source": [
    "svc.fit(X_resampled_train,y_resampled_train)"
   ]
  },
  {
   "cell_type": "code",
   "execution_count": 102,
   "id": "1c7a6ec9",
   "metadata": {},
   "outputs": [],
   "source": [
    "y_resampled_pred_svc = svc.predict(X_resampled_test)\n",
    "y_resampled_pred_svc_prob = svc.predict_proba(X_resampled_test)\n",
    "y_resampled_pred_svc_prob_positive = y_resampled_pred_svc_prob[:,1]"
   ]
  },
  {
   "cell_type": "code",
   "execution_count": 103,
   "id": "97047f3a",
   "metadata": {},
   "outputs": [
    {
     "data": {
      "text/plain": [
       "0.8755813953488372"
      ]
     },
     "execution_count": 103,
     "metadata": {},
     "output_type": "execute_result"
    }
   ],
   "source": [
    "svc.score(X_resampled_test,y_resampled_test)"
   ]
  },
  {
   "cell_type": "code",
   "execution_count": 104,
   "id": "510ce59f",
   "metadata": {},
   "outputs": [
    {
     "data": {
      "text/plain": [
       "array([[425,   0],\n",
       "       [107, 328]], dtype=int64)"
      ]
     },
     "execution_count": 104,
     "metadata": {},
     "output_type": "execute_result"
    }
   ],
   "source": [
    "confusion_matrix(y_resampled_test,y_resampled_pred_svc)"
   ]
  },
  {
   "cell_type": "code",
   "execution_count": 105,
   "id": "87d97785",
   "metadata": {},
   "outputs": [
    {
     "name": "stdout",
     "output_type": "stream",
     "text": [
      "              precision    recall  f1-score   support\n",
      "\n",
      "           0       0.80      1.00      0.89       425\n",
      "           1       1.00      0.75      0.86       435\n",
      "\n",
      "    accuracy                           0.88       860\n",
      "   macro avg       0.90      0.88      0.87       860\n",
      "weighted avg       0.90      0.88      0.87       860\n",
      "\n"
     ]
    }
   ],
   "source": [
    "print(classification_report(y_resampled_test,y_resampled_pred_svc))"
   ]
  },
  {
   "cell_type": "code",
   "execution_count": 107,
   "id": "da0d3135",
   "metadata": {},
   "outputs": [
    {
     "data": {
      "text/plain": [
       "0.9116159567275186"
      ]
     },
     "execution_count": 107,
     "metadata": {},
     "output_type": "execute_result"
    }
   ],
   "source": [
    "roc_auc_score(y_resampled_test,y_resampled_pred_svc_prob_positive)"
   ]
  },
  {
   "cell_type": "markdown",
   "id": "c0ee4d3d",
   "metadata": {},
   "source": [
    "### XGBoost"
   ]
  },
  {
   "cell_type": "code",
   "execution_count": 108,
   "id": "04a2de7c",
   "metadata": {},
   "outputs": [],
   "source": [
    "from xgboost import XGBClassifier"
   ]
  },
  {
   "cell_type": "code",
   "execution_count": 109,
   "id": "2a55c99b",
   "metadata": {},
   "outputs": [],
   "source": [
    "xgb = XGBClassifier()"
   ]
  },
  {
   "cell_type": "code",
   "execution_count": 110,
   "id": "94e67ef3",
   "metadata": {},
   "outputs": [
    {
     "data": {
      "text/plain": [
       "XGBClassifier(base_score=None, booster=None, callbacks=None,\n",
       "              colsample_bylevel=None, colsample_bynode=None,\n",
       "              colsample_bytree=None, early_stopping_rounds=None,\n",
       "              enable_categorical=False, eval_metric=None, feature_types=None,\n",
       "              gamma=None, gpu_id=None, grow_policy=None, importance_type=None,\n",
       "              interaction_constraints=None, learning_rate=None, max_bin=None,\n",
       "              max_cat_threshold=None, max_cat_to_onehot=None,\n",
       "              max_delta_step=None, max_depth=None, max_leaves=None,\n",
       "              min_child_weight=None, missing=nan, monotone_constraints=None,\n",
       "              n_estimators=100, n_jobs=None, num_parallel_tree=None,\n",
       "              predictor=None, random_state=None, ...)"
      ]
     },
     "execution_count": 110,
     "metadata": {},
     "output_type": "execute_result"
    }
   ],
   "source": [
    "xgb.fit(X_resampled_train,y_resampled_train)"
   ]
  },
  {
   "cell_type": "code",
   "execution_count": 111,
   "id": "72f57b51",
   "metadata": {},
   "outputs": [],
   "source": [
    "y_resampled_pred_xgb = xgb.predict(X_resampled_test)\n",
    "y_resampled_pred_xgb_prob = xgb.predict_proba(X_resampled_test)\n",
    "y_resampled_pred_xgb_prob_positive = y_resampled_pred_xgb_prob[:,1]"
   ]
  },
  {
   "cell_type": "code",
   "execution_count": 112,
   "id": "b4f5bc9c",
   "metadata": {},
   "outputs": [
    {
     "data": {
      "text/plain": [
       "0.9186046511627907"
      ]
     },
     "execution_count": 112,
     "metadata": {},
     "output_type": "execute_result"
    }
   ],
   "source": [
    "xgb.score(X_resampled_test,y_resampled_test)"
   ]
  },
  {
   "cell_type": "code",
   "execution_count": 113,
   "id": "cbb08c52",
   "metadata": {},
   "outputs": [
    {
     "data": {
      "text/plain": [
       "array([[403,  22],\n",
       "       [ 48, 387]], dtype=int64)"
      ]
     },
     "execution_count": 113,
     "metadata": {},
     "output_type": "execute_result"
    }
   ],
   "source": [
    "confusion_matrix(y_resampled_test,y_resampled_pred_xgb)"
   ]
  },
  {
   "cell_type": "code",
   "execution_count": 114,
   "id": "f83a2cec",
   "metadata": {},
   "outputs": [
    {
     "name": "stdout",
     "output_type": "stream",
     "text": [
      "              precision    recall  f1-score   support\n",
      "\n",
      "           0       0.89      0.95      0.92       425\n",
      "           1       0.95      0.89      0.92       435\n",
      "\n",
      "    accuracy                           0.92       860\n",
      "   macro avg       0.92      0.92      0.92       860\n",
      "weighted avg       0.92      0.92      0.92       860\n",
      "\n"
     ]
    }
   ],
   "source": [
    "print(classification_report(y_resampled_test,y_resampled_pred_xgb))"
   ]
  },
  {
   "cell_type": "code",
   "execution_count": 115,
   "id": "a0e57b19",
   "metadata": {},
   "outputs": [],
   "source": [
    "param = {'learning_rate':[0.05,0.1,0.15,0.2,0.25,0.3],\n",
    "        'max_depth':[3,4,5,6,8,10,12,15],\n",
    "        'min_child_weight':[1,3,5,7],\n",
    "        'gamma':[0.0,0.1,0.2,0.3,0.4],\n",
    "        'n_estimators':[50,100]}"
   ]
  },
  {
   "cell_type": "code",
   "execution_count": null,
   "id": "ef814fb5",
   "metadata": {},
   "outputs": [],
   "source": [
    "from sklearn.model_selection import GridSearchCV\n",
    "\n",
    "gsc = GridSearchCV(estimator=xgb,\n",
    "                  param_grid=param,\n",
    "                  scoring='accuracy',\n",
    "                  cv=10,n_jobs=-1)"
   ]
  },
  {
   "cell_type": "code",
   "execution_count": null,
   "id": "3a6996ff",
   "metadata": {},
   "outputs": [],
   "source": [
    "gsc.fit(X_resampled_train,y_resampled_train)"
   ]
  },
  {
   "cell_type": "code",
   "execution_count": null,
   "id": "11801f87",
   "metadata": {},
   "outputs": [],
   "source": [
    "gsc.best_params_"
   ]
  },
  {
   "cell_type": "code",
   "execution_count": null,
   "id": "256282f2",
   "metadata": {},
   "outputs": [],
   "source": [
    "gsc.best_score_"
   ]
  },
  {
   "cell_type": "markdown",
   "id": "0a975956",
   "metadata": {},
   "source": [
    "### CatBoostClassifier"
   ]
  },
  {
   "cell_type": "code",
   "execution_count": 80,
   "id": "13186d3e",
   "metadata": {},
   "outputs": [],
   "source": [
    "from sklearn.metrics import roc_auc_score as AUC\n",
    "from catboost import Pool,CatBoostClassifier"
   ]
  },
  {
   "cell_type": "code",
   "execution_count": 72,
   "id": "0a6846ef",
   "metadata": {},
   "outputs": [],
   "source": [
    "model = CatBoostClassifier() "
   ]
  },
  {
   "cell_type": "code",
   "execution_count": 76,
   "id": "e5e57c7c",
   "metadata": {},
   "outputs": [],
   "source": [
    "feature_names = ['Type',\n",
    "                 'Air temperature',\n",
    "                 'Rotational speed','Torque',\n",
    "                 'Tool wear','TWF','HDF',\n",
    "                 'PWF','OSF','RNF','frequency_column']\n",
    "\n",
    "train_pool = Pool(X_resample.to_numpy(), y_resample.to_numpy(), \n",
    "                  feature_names=feature_names)"
   ]
  },
  {
   "cell_type": "code",
   "execution_count": 78,
   "id": "2ade8811",
   "metadata": {},
   "outputs": [
    {
     "data": {
      "application/vnd.jupyter.widget-view+json": {
       "model_id": "cbbf38377ca64b258b12776c4a9d9347",
       "version_major": 2,
       "version_minor": 0
      },
      "text/plain": [
       "MetricVisualizer(layout=Layout(align_self='stretch', height='500px'))"
      ]
     },
     "metadata": {},
     "output_type": "display_data"
    },
    {
     "data": {
      "text/plain": [
       "<catboost.core.CatBoostClassifier at 0x1ae9793cf40>"
      ]
     },
     "execution_count": 78,
     "metadata": {},
     "output_type": "execute_result"
    }
   ],
   "source": [
    "model.fit(train_pool, eval_set=train_pool, verbose=False, plot=True)"
   ]
  },
  {
   "cell_type": "code",
   "execution_count": 116,
   "id": "8490e163",
   "metadata": {},
   "outputs": [
    {
     "name": "stdout",
     "output_type": "stream",
     "text": [
      "Train Score: 0.9827586206896552\n"
     ]
    }
   ],
   "source": [
    "train_auc = AUC(y_resampled_test, model.predict(X_resampled_test))\n",
    "print(f\"Train Score: {train_auc}\")"
   ]
  },
  {
   "cell_type": "code",
   "execution_count": 117,
   "id": "c0b28ebc",
   "metadata": {},
   "outputs": [
    {
     "data": {
      "text/plain": [
       "array([[425,   0],\n",
       "       [ 15, 420]], dtype=int64)"
      ]
     },
     "execution_count": 117,
     "metadata": {},
     "output_type": "execute_result"
    }
   ],
   "source": [
    "confusion_matrix(y_resampled_test,model.predict(X_resampled_test))"
   ]
  },
  {
   "cell_type": "code",
   "execution_count": 118,
   "id": "06cf9046",
   "metadata": {
    "scrolled": true
   },
   "outputs": [
    {
     "name": "stdout",
     "output_type": "stream",
     "text": [
      "              precision    recall  f1-score   support\n",
      "\n",
      "           0       0.97      1.00      0.98       425\n",
      "           1       1.00      0.97      0.98       435\n",
      "\n",
      "    accuracy                           0.98       860\n",
      "   macro avg       0.98      0.98      0.98       860\n",
      "weighted avg       0.98      0.98      0.98       860\n",
      "\n"
     ]
    }
   ],
   "source": [
    "print(classification_report(y_resampled_test,model.predict(X_resampled_test)))"
   ]
  },
  {
   "cell_type": "markdown",
   "id": "9279e429",
   "metadata": {},
   "source": [
    "# Next all the changes are made in the test data to run it through the model and get our predictions"
   ]
  },
  {
   "cell_type": "code",
   "execution_count": 87,
   "id": "185bb457",
   "metadata": {},
   "outputs": [],
   "source": [
    "df_test = df_test.rename(columns={'Air temperature [K]':'Air temperature','Rotational speed [rpm]':'Rotational speed','Torque [Nm]':'Torque','Tool wear [min]':'Tool wear'})"
   ]
  },
  {
   "cell_type": "code",
   "execution_count": 90,
   "id": "2cbb8005",
   "metadata": {},
   "outputs": [],
   "source": [
    "test_submission = {'id':test_id,'Machine failure':pred}"
   ]
  },
  {
   "cell_type": "code",
   "execution_count": 91,
   "id": "f7698ea0",
   "metadata": {},
   "outputs": [],
   "source": [
    "submission = pd.DataFrame(test_submission)"
   ]
  },
  {
   "cell_type": "code",
   "execution_count": 88,
   "id": "c79df07b",
   "metadata": {},
   "outputs": [
    {
     "data": {
      "text/plain": [
       "array([0.56943023, 0.83735087, 0.24784839, ..., 0.98052075, 0.97780626,\n",
       "       0.99032917])"
      ]
     },
     "execution_count": 88,
     "metadata": {},
     "output_type": "execute_result"
    }
   ],
   "source": [
    "test_pool = Pool(df_test.to_numpy(), \n",
    "                 feature_names=feature_namestest_submission = {'id':test_id,'Machine failure':test_prob_positive}\n",
    "\n",
    "submission = pd.DataFrame(test_submission))\n",
    "pred = model.predict_proba(test_pool)[:, 1]\n",
    "pred"
   ]
  },
  {
   "cell_type": "code",
   "execution_count": 86,
   "id": "a1d1296d",
   "metadata": {},
   "outputs": [
    {
     "data": {
      "text/html": [
       "<div>\n",
       "<style scoped>\n",
       "    .dataframe tbody tr th:only-of-type {\n",
       "        vertical-align: middle;\n",
       "    }\n",
       "\n",
       "    .dataframe tbody tr th {\n",
       "        vertical-align: top;\n",
       "    }\n",
       "\n",
       "    .dataframe thead th {\n",
       "        text-align: right;\n",
       "    }\n",
       "</style>\n",
       "<table border=\"1\" class=\"dataframe\">\n",
       "  <thead>\n",
       "    <tr style=\"text-align: right;\">\n",
       "      <th></th>\n",
       "      <th>Type</th>\n",
       "      <th>Air temperature [K]</th>\n",
       "      <th>Rotational speed [rpm]</th>\n",
       "      <th>Torque [Nm]</th>\n",
       "      <th>Tool wear [min]</th>\n",
       "      <th>TWF</th>\n",
       "      <th>HDF</th>\n",
       "      <th>PWF</th>\n",
       "      <th>OSF</th>\n",
       "      <th>RNF</th>\n",
       "      <th>frequency_column</th>\n",
       "    </tr>\n",
       "  </thead>\n",
       "  <tbody>\n",
       "    <tr>\n",
       "      <th>0</th>\n",
       "      <td>1</td>\n",
       "      <td>302.3</td>\n",
       "      <td>-0.153806</td>\n",
       "      <td>38.0</td>\n",
       "      <td>60</td>\n",
       "      <td>0</td>\n",
       "      <td>0</td>\n",
       "      <td>0</td>\n",
       "      <td>0</td>\n",
       "      <td>0</td>\n",
       "      <td>18</td>\n",
       "    </tr>\n",
       "    <tr>\n",
       "      <th>1</th>\n",
       "      <td>1</td>\n",
       "      <td>301.7</td>\n",
       "      <td>1.375097</td>\n",
       "      <td>28.8</td>\n",
       "      <td>17</td>\n",
       "      <td>0</td>\n",
       "      <td>0</td>\n",
       "      <td>0</td>\n",
       "      <td>0</td>\n",
       "      <td>0</td>\n",
       "      <td>15</td>\n",
       "    </tr>\n",
       "    <tr>\n",
       "      <th>2</th>\n",
       "      <td>1</td>\n",
       "      <td>301.3</td>\n",
       "      <td>0.031949</td>\n",
       "      <td>37.7</td>\n",
       "      <td>96</td>\n",
       "      <td>0</td>\n",
       "      <td>0</td>\n",
       "      <td>0</td>\n",
       "      <td>0</td>\n",
       "      <td>0</td>\n",
       "      <td>7</td>\n",
       "    </tr>\n",
       "    <tr>\n",
       "      <th>3</th>\n",
       "      <td>2</td>\n",
       "      <td>300.1</td>\n",
       "      <td>-0.296694</td>\n",
       "      <td>47.6</td>\n",
       "      <td>5</td>\n",
       "      <td>0</td>\n",
       "      <td>0</td>\n",
       "      <td>0</td>\n",
       "      <td>0</td>\n",
       "      <td>0</td>\n",
       "      <td>7</td>\n",
       "    </tr>\n",
       "    <tr>\n",
       "      <th>4</th>\n",
       "      <td>2</td>\n",
       "      <td>303.4</td>\n",
       "      <td>-0.039496</td>\n",
       "      <td>41.3</td>\n",
       "      <td>114</td>\n",
       "      <td>0</td>\n",
       "      <td>0</td>\n",
       "      <td>0</td>\n",
       "      <td>0</td>\n",
       "      <td>0</td>\n",
       "      <td>36</td>\n",
       "    </tr>\n",
       "    <tr>\n",
       "      <th>...</th>\n",
       "      <td>...</td>\n",
       "      <td>...</td>\n",
       "      <td>...</td>\n",
       "      <td>...</td>\n",
       "      <td>...</td>\n",
       "      <td>...</td>\n",
       "      <td>...</td>\n",
       "      <td>...</td>\n",
       "      <td>...</td>\n",
       "      <td>...</td>\n",
       "      <td>...</td>\n",
       "    </tr>\n",
       "    <tr>\n",
       "      <th>90949</th>\n",
       "      <td>1</td>\n",
       "      <td>302.3</td>\n",
       "      <td>-0.260972</td>\n",
       "      <td>40.4</td>\n",
       "      <td>15</td>\n",
       "      <td>0</td>\n",
       "      <td>0</td>\n",
       "      <td>0</td>\n",
       "      <td>0</td>\n",
       "      <td>0</td>\n",
       "      <td>7</td>\n",
       "    </tr>\n",
       "    <tr>\n",
       "      <th>90950</th>\n",
       "      <td>1</td>\n",
       "      <td>297.9</td>\n",
       "      <td>0.153403</td>\n",
       "      <td>33.8</td>\n",
       "      <td>31</td>\n",
       "      <td>0</td>\n",
       "      <td>0</td>\n",
       "      <td>0</td>\n",
       "      <td>0</td>\n",
       "      <td>0</td>\n",
       "      <td>29</td>\n",
       "    </tr>\n",
       "    <tr>\n",
       "      <th>90951</th>\n",
       "      <td>1</td>\n",
       "      <td>295.6</td>\n",
       "      <td>-0.139517</td>\n",
       "      <td>41.4</td>\n",
       "      <td>187</td>\n",
       "      <td>0</td>\n",
       "      <td>0</td>\n",
       "      <td>0</td>\n",
       "      <td>0</td>\n",
       "      <td>0</td>\n",
       "      <td>4</td>\n",
       "    </tr>\n",
       "    <tr>\n",
       "      <th>90952</th>\n",
       "      <td>1</td>\n",
       "      <td>298.1</td>\n",
       "      <td>0.096248</td>\n",
       "      <td>40.3</td>\n",
       "      <td>69</td>\n",
       "      <td>0</td>\n",
       "      <td>0</td>\n",
       "      <td>0</td>\n",
       "      <td>0</td>\n",
       "      <td>0</td>\n",
       "      <td>12</td>\n",
       "    </tr>\n",
       "    <tr>\n",
       "      <th>90953</th>\n",
       "      <td>1</td>\n",
       "      <td>303.5</td>\n",
       "      <td>0.096248</td>\n",
       "      <td>36.1</td>\n",
       "      <td>92</td>\n",
       "      <td>0</td>\n",
       "      <td>0</td>\n",
       "      <td>0</td>\n",
       "      <td>0</td>\n",
       "      <td>0</td>\n",
       "      <td>7</td>\n",
       "    </tr>\n",
       "  </tbody>\n",
       "</table>\n",
       "<p>90954 rows × 11 columns</p>\n",
       "</div>"
      ],
      "text/plain": [
       "       Type  Air temperature [K]  Rotational speed [rpm]  Torque [Nm]  \\\n",
       "0         1                302.3               -0.153806         38.0   \n",
       "1         1                301.7                1.375097         28.8   \n",
       "2         1                301.3                0.031949         37.7   \n",
       "3         2                300.1               -0.296694         47.6   \n",
       "4         2                303.4               -0.039496         41.3   \n",
       "...     ...                  ...                     ...          ...   \n",
       "90949     1                302.3               -0.260972         40.4   \n",
       "90950     1                297.9                0.153403         33.8   \n",
       "90951     1                295.6               -0.139517         41.4   \n",
       "90952     1                298.1                0.096248         40.3   \n",
       "90953     1                303.5                0.096248         36.1   \n",
       "\n",
       "       Tool wear [min]  TWF  HDF  PWF  OSF  RNF  frequency_column  \n",
       "0                   60    0    0    0    0    0                18  \n",
       "1                   17    0    0    0    0    0                15  \n",
       "2                   96    0    0    0    0    0                 7  \n",
       "3                    5    0    0    0    0    0                 7  \n",
       "4                  114    0    0    0    0    0                36  \n",
       "...                ...  ...  ...  ...  ...  ...               ...  \n",
       "90949               15    0    0    0    0    0                 7  \n",
       "90950               31    0    0    0    0    0                29  \n",
       "90951              187    0    0    0    0    0                 4  \n",
       "90952               69    0    0    0    0    0                12  \n",
       "90953               92    0    0    0    0    0                 7  \n",
       "\n",
       "[90954 rows x 11 columns]"
      ]
     },
     "execution_count": 86,
     "metadata": {},
     "output_type": "execute_result"
    }
   ],
   "source": [
    "df_test"
   ]
  },
  {
   "cell_type": "code",
   "execution_count": 73,
   "id": "0436c78b",
   "metadata": {},
   "outputs": [
    {
     "data": {
      "text/html": [
       "<div>\n",
       "<style scoped>\n",
       "    .dataframe tbody tr th:only-of-type {\n",
       "        vertical-align: middle;\n",
       "    }\n",
       "\n",
       "    .dataframe tbody tr th {\n",
       "        vertical-align: top;\n",
       "    }\n",
       "\n",
       "    .dataframe thead th {\n",
       "        text-align: right;\n",
       "    }\n",
       "</style>\n",
       "<table border=\"1\" class=\"dataframe\">\n",
       "  <thead>\n",
       "    <tr style=\"text-align: right;\">\n",
       "      <th></th>\n",
       "      <th>Type</th>\n",
       "      <th>Air temperature</th>\n",
       "      <th>Rotational speed</th>\n",
       "      <th>Torque</th>\n",
       "      <th>Tool wear</th>\n",
       "      <th>TWF</th>\n",
       "      <th>HDF</th>\n",
       "      <th>PWF</th>\n",
       "      <th>OSF</th>\n",
       "      <th>RNF</th>\n",
       "      <th>frequency_column</th>\n",
       "    </tr>\n",
       "  </thead>\n",
       "  <tbody>\n",
       "    <tr>\n",
       "      <th>0</th>\n",
       "      <td>2</td>\n",
       "      <td>300.9</td>\n",
       "      <td>-1.285398</td>\n",
       "      <td>62.4</td>\n",
       "      <td>113</td>\n",
       "      <td>0</td>\n",
       "      <td>1</td>\n",
       "      <td>0</td>\n",
       "      <td>0</td>\n",
       "      <td>0</td>\n",
       "      <td>43</td>\n",
       "    </tr>\n",
       "    <tr>\n",
       "      <th>1</th>\n",
       "      <td>1</td>\n",
       "      <td>299.3</td>\n",
       "      <td>-1.890864</td>\n",
       "      <td>69.4</td>\n",
       "      <td>119</td>\n",
       "      <td>0</td>\n",
       "      <td>0</td>\n",
       "      <td>0</td>\n",
       "      <td>0</td>\n",
       "      <td>0</td>\n",
       "      <td>19</td>\n",
       "    </tr>\n",
       "    <tr>\n",
       "      <th>2</th>\n",
       "      <td>1</td>\n",
       "      <td>299.3</td>\n",
       "      <td>-1.890864</td>\n",
       "      <td>69.4</td>\n",
       "      <td>119</td>\n",
       "      <td>0</td>\n",
       "      <td>0</td>\n",
       "      <td>0</td>\n",
       "      <td>0</td>\n",
       "      <td>0</td>\n",
       "      <td>19</td>\n",
       "    </tr>\n",
       "    <tr>\n",
       "      <th>3</th>\n",
       "      <td>1</td>\n",
       "      <td>300.8</td>\n",
       "      <td>-1.307022</td>\n",
       "      <td>59.1</td>\n",
       "      <td>203</td>\n",
       "      <td>0</td>\n",
       "      <td>0</td>\n",
       "      <td>0</td>\n",
       "      <td>1</td>\n",
       "      <td>0</td>\n",
       "      <td>117</td>\n",
       "    </tr>\n",
       "    <tr>\n",
       "      <th>4</th>\n",
       "      <td>1</td>\n",
       "      <td>300.8</td>\n",
       "      <td>-1.307022</td>\n",
       "      <td>59.1</td>\n",
       "      <td>203</td>\n",
       "      <td>0</td>\n",
       "      <td>0</td>\n",
       "      <td>0</td>\n",
       "      <td>1</td>\n",
       "      <td>0</td>\n",
       "      <td>117</td>\n",
       "    </tr>\n",
       "    <tr>\n",
       "      <th>...</th>\n",
       "      <td>...</td>\n",
       "      <td>...</td>\n",
       "      <td>...</td>\n",
       "      <td>...</td>\n",
       "      <td>...</td>\n",
       "      <td>...</td>\n",
       "      <td>...</td>\n",
       "      <td>...</td>\n",
       "      <td>...</td>\n",
       "      <td>...</td>\n",
       "      <td>...</td>\n",
       "    </tr>\n",
       "    <tr>\n",
       "      <th>4291</th>\n",
       "      <td>1</td>\n",
       "      <td>302.6</td>\n",
       "      <td>0.848149</td>\n",
       "      <td>35.0</td>\n",
       "      <td>215</td>\n",
       "      <td>1</td>\n",
       "      <td>0</td>\n",
       "      <td>0</td>\n",
       "      <td>0</td>\n",
       "      <td>0</td>\n",
       "      <td>25</td>\n",
       "    </tr>\n",
       "    <tr>\n",
       "      <th>4292</th>\n",
       "      <td>1</td>\n",
       "      <td>297.3</td>\n",
       "      <td>0.235475</td>\n",
       "      <td>33.5</td>\n",
       "      <td>208</td>\n",
       "      <td>1</td>\n",
       "      <td>0</td>\n",
       "      <td>0</td>\n",
       "      <td>0</td>\n",
       "      <td>0</td>\n",
       "      <td>20</td>\n",
       "    </tr>\n",
       "    <tr>\n",
       "      <th>4293</th>\n",
       "      <td>1</td>\n",
       "      <td>299.1</td>\n",
       "      <td>-1.206111</td>\n",
       "      <td>49.7</td>\n",
       "      <td>74</td>\n",
       "      <td>0</td>\n",
       "      <td>0</td>\n",
       "      <td>0</td>\n",
       "      <td>0</td>\n",
       "      <td>0</td>\n",
       "      <td>38</td>\n",
       "    </tr>\n",
       "    <tr>\n",
       "      <th>4294</th>\n",
       "      <td>0</td>\n",
       "      <td>302.4</td>\n",
       "      <td>-1.689042</td>\n",
       "      <td>62.3</td>\n",
       "      <td>162</td>\n",
       "      <td>0</td>\n",
       "      <td>0</td>\n",
       "      <td>1</td>\n",
       "      <td>0</td>\n",
       "      <td>0</td>\n",
       "      <td>12</td>\n",
       "    </tr>\n",
       "    <tr>\n",
       "      <th>4295</th>\n",
       "      <td>1</td>\n",
       "      <td>302.6</td>\n",
       "      <td>-1.379101</td>\n",
       "      <td>49.7</td>\n",
       "      <td>155</td>\n",
       "      <td>0</td>\n",
       "      <td>1</td>\n",
       "      <td>0</td>\n",
       "      <td>0</td>\n",
       "      <td>0</td>\n",
       "      <td>9</td>\n",
       "    </tr>\n",
       "  </tbody>\n",
       "</table>\n",
       "<p>4296 rows × 11 columns</p>\n",
       "</div>"
      ],
      "text/plain": [
       "      Type  Air temperature  Rotational speed  Torque  Tool wear  TWF  HDF  \\\n",
       "0        2            300.9         -1.285398    62.4        113    0    1   \n",
       "1        1            299.3         -1.890864    69.4        119    0    0   \n",
       "2        1            299.3         -1.890864    69.4        119    0    0   \n",
       "3        1            300.8         -1.307022    59.1        203    0    0   \n",
       "4        1            300.8         -1.307022    59.1        203    0    0   \n",
       "...    ...              ...               ...     ...        ...  ...  ...   \n",
       "4291     1            302.6          0.848149    35.0        215    1    0   \n",
       "4292     1            297.3          0.235475    33.5        208    1    0   \n",
       "4293     1            299.1         -1.206111    49.7         74    0    0   \n",
       "4294     0            302.4         -1.689042    62.3        162    0    0   \n",
       "4295     1            302.6         -1.379101    49.7        155    0    1   \n",
       "\n",
       "      PWF  OSF  RNF  frequency_column  \n",
       "0       0    0    0                43  \n",
       "1       0    0    0                19  \n",
       "2       0    0    0                19  \n",
       "3       0    1    0               117  \n",
       "4       0    1    0               117  \n",
       "...   ...  ...  ...               ...  \n",
       "4291    0    0    0                25  \n",
       "4292    0    0    0                20  \n",
       "4293    0    0    0                38  \n",
       "4294    1    0    0                12  \n",
       "4295    0    0    0                 9  \n",
       "\n",
       "[4296 rows x 11 columns]"
      ]
     },
     "execution_count": 73,
     "metadata": {},
     "output_type": "execute_result"
    }
   ],
   "source": [
    "X_resample"
   ]
  },
  {
   "cell_type": "markdown",
   "id": "cdb16200",
   "metadata": {},
   "source": [
    "## Results and conclusion\n",
    "<font color='blue'>Let's dive right into creating our submission file using the model we have created.<br>Already parallely i have transformed the test file, we will have a quick look and use predict function to get our answer<br>Some file manipulation will have to be done to get our final format."
   ]
  },
  {
   "cell_type": "code",
   "execution_count": 119,
   "id": "b30a1af4",
   "metadata": {},
   "outputs": [],
   "source": [
    "test = pd.read_csv('test.csv')\n",
    "test_id = test['id']"
   ]
  },
  {
   "cell_type": "code",
   "execution_count": 120,
   "id": "531bc1ca",
   "metadata": {
    "scrolled": true
   },
   "outputs": [
    {
     "data": {
      "text/html": [
       "<div>\n",
       "<style scoped>\n",
       "    .dataframe tbody tr th:only-of-type {\n",
       "        vertical-align: middle;\n",
       "    }\n",
       "\n",
       "    .dataframe tbody tr th {\n",
       "        vertical-align: top;\n",
       "    }\n",
       "\n",
       "    .dataframe thead th {\n",
       "        text-align: right;\n",
       "    }\n",
       "</style>\n",
       "<table border=\"1\" class=\"dataframe\">\n",
       "  <thead>\n",
       "    <tr style=\"text-align: right;\">\n",
       "      <th></th>\n",
       "      <th>Type</th>\n",
       "      <th>Air temperature</th>\n",
       "      <th>Rotational speed</th>\n",
       "      <th>Torque</th>\n",
       "      <th>Tool wear</th>\n",
       "      <th>TWF</th>\n",
       "      <th>HDF</th>\n",
       "      <th>PWF</th>\n",
       "      <th>OSF</th>\n",
       "      <th>RNF</th>\n",
       "      <th>frequency_column</th>\n",
       "    </tr>\n",
       "  </thead>\n",
       "  <tbody>\n",
       "    <tr>\n",
       "      <th>0</th>\n",
       "      <td>1</td>\n",
       "      <td>302.3</td>\n",
       "      <td>-0.153806</td>\n",
       "      <td>38.0</td>\n",
       "      <td>60</td>\n",
       "      <td>0</td>\n",
       "      <td>0</td>\n",
       "      <td>0</td>\n",
       "      <td>0</td>\n",
       "      <td>0</td>\n",
       "      <td>18</td>\n",
       "    </tr>\n",
       "    <tr>\n",
       "      <th>1</th>\n",
       "      <td>1</td>\n",
       "      <td>301.7</td>\n",
       "      <td>1.375097</td>\n",
       "      <td>28.8</td>\n",
       "      <td>17</td>\n",
       "      <td>0</td>\n",
       "      <td>0</td>\n",
       "      <td>0</td>\n",
       "      <td>0</td>\n",
       "      <td>0</td>\n",
       "      <td>15</td>\n",
       "    </tr>\n",
       "    <tr>\n",
       "      <th>2</th>\n",
       "      <td>1</td>\n",
       "      <td>301.3</td>\n",
       "      <td>0.031949</td>\n",
       "      <td>37.7</td>\n",
       "      <td>96</td>\n",
       "      <td>0</td>\n",
       "      <td>0</td>\n",
       "      <td>0</td>\n",
       "      <td>0</td>\n",
       "      <td>0</td>\n",
       "      <td>7</td>\n",
       "    </tr>\n",
       "    <tr>\n",
       "      <th>3</th>\n",
       "      <td>2</td>\n",
       "      <td>300.1</td>\n",
       "      <td>-0.296694</td>\n",
       "      <td>47.6</td>\n",
       "      <td>5</td>\n",
       "      <td>0</td>\n",
       "      <td>0</td>\n",
       "      <td>0</td>\n",
       "      <td>0</td>\n",
       "      <td>0</td>\n",
       "      <td>7</td>\n",
       "    </tr>\n",
       "    <tr>\n",
       "      <th>4</th>\n",
       "      <td>2</td>\n",
       "      <td>303.4</td>\n",
       "      <td>-0.039496</td>\n",
       "      <td>41.3</td>\n",
       "      <td>114</td>\n",
       "      <td>0</td>\n",
       "      <td>0</td>\n",
       "      <td>0</td>\n",
       "      <td>0</td>\n",
       "      <td>0</td>\n",
       "      <td>36</td>\n",
       "    </tr>\n",
       "    <tr>\n",
       "      <th>...</th>\n",
       "      <td>...</td>\n",
       "      <td>...</td>\n",
       "      <td>...</td>\n",
       "      <td>...</td>\n",
       "      <td>...</td>\n",
       "      <td>...</td>\n",
       "      <td>...</td>\n",
       "      <td>...</td>\n",
       "      <td>...</td>\n",
       "      <td>...</td>\n",
       "      <td>...</td>\n",
       "    </tr>\n",
       "    <tr>\n",
       "      <th>90949</th>\n",
       "      <td>1</td>\n",
       "      <td>302.3</td>\n",
       "      <td>-0.260972</td>\n",
       "      <td>40.4</td>\n",
       "      <td>15</td>\n",
       "      <td>0</td>\n",
       "      <td>0</td>\n",
       "      <td>0</td>\n",
       "      <td>0</td>\n",
       "      <td>0</td>\n",
       "      <td>7</td>\n",
       "    </tr>\n",
       "    <tr>\n",
       "      <th>90950</th>\n",
       "      <td>1</td>\n",
       "      <td>297.9</td>\n",
       "      <td>0.153403</td>\n",
       "      <td>33.8</td>\n",
       "      <td>31</td>\n",
       "      <td>0</td>\n",
       "      <td>0</td>\n",
       "      <td>0</td>\n",
       "      <td>0</td>\n",
       "      <td>0</td>\n",
       "      <td>29</td>\n",
       "    </tr>\n",
       "    <tr>\n",
       "      <th>90951</th>\n",
       "      <td>1</td>\n",
       "      <td>295.6</td>\n",
       "      <td>-0.139517</td>\n",
       "      <td>41.4</td>\n",
       "      <td>187</td>\n",
       "      <td>0</td>\n",
       "      <td>0</td>\n",
       "      <td>0</td>\n",
       "      <td>0</td>\n",
       "      <td>0</td>\n",
       "      <td>4</td>\n",
       "    </tr>\n",
       "    <tr>\n",
       "      <th>90952</th>\n",
       "      <td>1</td>\n",
       "      <td>298.1</td>\n",
       "      <td>0.096248</td>\n",
       "      <td>40.3</td>\n",
       "      <td>69</td>\n",
       "      <td>0</td>\n",
       "      <td>0</td>\n",
       "      <td>0</td>\n",
       "      <td>0</td>\n",
       "      <td>0</td>\n",
       "      <td>12</td>\n",
       "    </tr>\n",
       "    <tr>\n",
       "      <th>90953</th>\n",
       "      <td>1</td>\n",
       "      <td>303.5</td>\n",
       "      <td>0.096248</td>\n",
       "      <td>36.1</td>\n",
       "      <td>92</td>\n",
       "      <td>0</td>\n",
       "      <td>0</td>\n",
       "      <td>0</td>\n",
       "      <td>0</td>\n",
       "      <td>0</td>\n",
       "      <td>7</td>\n",
       "    </tr>\n",
       "  </tbody>\n",
       "</table>\n",
       "<p>90954 rows × 11 columns</p>\n",
       "</div>"
      ],
      "text/plain": [
       "       Type  Air temperature  Rotational speed  Torque  Tool wear  TWF  HDF  \\\n",
       "0         1            302.3         -0.153806    38.0         60    0    0   \n",
       "1         1            301.7          1.375097    28.8         17    0    0   \n",
       "2         1            301.3          0.031949    37.7         96    0    0   \n",
       "3         2            300.1         -0.296694    47.6          5    0    0   \n",
       "4         2            303.4         -0.039496    41.3        114    0    0   \n",
       "...     ...              ...               ...     ...        ...  ...  ...   \n",
       "90949     1            302.3         -0.260972    40.4         15    0    0   \n",
       "90950     1            297.9          0.153403    33.8         31    0    0   \n",
       "90951     1            295.6         -0.139517    41.4        187    0    0   \n",
       "90952     1            298.1          0.096248    40.3         69    0    0   \n",
       "90953     1            303.5          0.096248    36.1         92    0    0   \n",
       "\n",
       "       PWF  OSF  RNF  frequency_column  \n",
       "0        0    0    0                18  \n",
       "1        0    0    0                15  \n",
       "2        0    0    0                 7  \n",
       "3        0    0    0                 7  \n",
       "4        0    0    0                36  \n",
       "...    ...  ...  ...               ...  \n",
       "90949    0    0    0                 7  \n",
       "90950    0    0    0                29  \n",
       "90951    0    0    0                 4  \n",
       "90952    0    0    0                12  \n",
       "90953    0    0    0                 7  \n",
       "\n",
       "[90954 rows x 11 columns]"
      ]
     },
     "execution_count": 120,
     "metadata": {},
     "output_type": "execute_result"
    }
   ],
   "source": [
    "df_test"
   ]
  },
  {
   "cell_type": "code",
   "execution_count": 122,
   "id": "9414840d",
   "metadata": {},
   "outputs": [],
   "source": [
    "#SVC\n",
    "test_pred_prob_svc = svc.predict_proba(df_test)\n",
    "test_prob_positive_svc = test_pred_prob_svc[:,1]"
   ]
  },
  {
   "cell_type": "code",
   "execution_count": 124,
   "id": "52e52112",
   "metadata": {},
   "outputs": [],
   "source": [
    "test_submission_svc = {'id':test_id,'Machine failure':test_prob_positive_svc}"
   ]
  },
  {
   "cell_type": "code",
   "execution_count": 126,
   "id": "86641df0",
   "metadata": {},
   "outputs": [],
   "source": [
    "submission_svc = pd.DataFrame(test_submission_svc)"
   ]
  },
  {
   "cell_type": "code",
   "execution_count": 127,
   "id": "9a0251b4",
   "metadata": {},
   "outputs": [],
   "source": [
    "submission.to_csv('submission_svc.csv',index=False)"
   ]
  },
  {
   "cell_type": "code",
   "execution_count": 128,
   "id": "b3c2bc13",
   "metadata": {},
   "outputs": [],
   "source": [
    "#xgb\n",
    "test_pred_prob_xgb = xgb.predict_proba(df_test)\n",
    "test_prob_positive_xgb = test_pred_prob_xgb[:,1]\n",
    "\n",
    "test_submission_xgb = {'id':test_id,'Machine failure':test_prob_positive_xgb}\n",
    "\n",
    "submission_xgb = pd.DataFrame(test_submission_xgb)\n",
    "\n",
    "submission.to_csv('submission_xgb.csv',index=False)"
   ]
  },
  {
   "cell_type": "code",
   "execution_count": 130,
   "id": "477f2bba",
   "metadata": {},
   "outputs": [],
   "source": [
    "#catboost\n",
    "test_pred_prob_cb = model.predict_proba(df_test)\n",
    "test_prob_positive_cb = test_pred_prob_cb[:,1]\n",
    "\n",
    "test_submission_cb = {'id':test_id,'Machine failure':test_prob_positive_cb}\n",
    "\n",
    "submission_cb = pd.DataFrame(test_submission_cb)\n",
    "\n",
    "submission.to_csv('submission_cb.csv',index=False)"
   ]
  },
  {
   "cell_type": "code",
   "execution_count": 131,
   "id": "28ca4616",
   "metadata": {},
   "outputs": [],
   "source": [
    "#log\n",
    "test_pred_prob_log = log.predict_proba(df_test)\n",
    "test_prob_positive_log = test_pred_prob_log[:,1]\n",
    "\n",
    "test_submission_log = {'id':test_id,'Machine failure':test_prob_positive_log}\n",
    "\n",
    "submission_log = pd.DataFrame(test_submission_log)\n",
    "\n",
    "submission.to_csv('submission_log.csv',index=False)"
   ]
  },
  {
   "cell_type": "code",
   "execution_count": null,
   "id": "3a101a6c",
   "metadata": {},
   "outputs": [],
   "source": []
  }
 ],
 "metadata": {
  "kernelspec": {
   "display_name": "Python 3 (ipykernel)",
   "language": "python",
   "name": "python3"
  },
  "language_info": {
   "codemirror_mode": {
    "name": "ipython",
    "version": 3
   },
   "file_extension": ".py",
   "mimetype": "text/x-python",
   "name": "python",
   "nbconvert_exporter": "python",
   "pygments_lexer": "ipython3",
   "version": "3.9.13"
  }
 },
 "nbformat": 4,
 "nbformat_minor": 5
}
